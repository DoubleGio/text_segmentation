{
 "cells": [
  {
   "cell_type": "code",
   "execution_count": 1,
   "metadata": {},
   "outputs": [],
   "source": [
    "import os, tarfile\n",
    "from utils import ENWIKI_LOC, subdivide_dir"
   ]
  },
  {
   "cell_type": "code",
   "execution_count": 2,
   "metadata": {},
   "outputs": [],
   "source": [
    "archive_file = '../Datasets/ENWiki/wiki_727K.tar.bz2'"
   ]
  },
  {
   "cell_type": "code",
   "execution_count": 3,
   "metadata": {},
   "outputs": [],
   "source": [
    "file = tarfile.open(archive_file, 'r:bz2')"
   ]
  },
  {
   "cell_type": "code",
   "execution_count": 45,
   "metadata": {},
   "outputs": [],
   "source": [
    "# Extract N files\n",
    "MAX = 1300\n",
    "select = []\n",
    "while len(select) < MAX:\n",
    "    try:\n",
    "        f = file.next()\n",
    "    except AttributeError:\n",
    "        break\n",
    "    if f.isreg():\n",
    "        f.name = os.path.basename(f.name) # Removes subdirectory structure\n",
    "        select.append(f)"
   ]
  },
  {
   "cell_type": "code",
   "execution_count": 6,
   "metadata": {},
   "outputs": [],
   "source": [
    "# Extract ALL files\n",
    "for member in file.getmembers():\n",
    "    if member.isreg():\n",
    "        member.name = os.path.basename(member.name)\n",
    "        file.extract(member, path=ENWIKI_LOC)\n",
    "subdivide_dir(ENWIKI_LOC, N=1000)"
   ]
  },
  {
   "cell_type": "code",
   "execution_count": 47,
   "metadata": {},
   "outputs": [],
   "source": [
    "file.extractall(path=ENWIKI_LOC,members=select)"
   ]
  },
  {
   "cell_type": "code",
   "execution_count": 50,
   "metadata": {},
   "outputs": [
    {
     "data": {
      "text/plain": [
       "1300"
      ]
     },
     "execution_count": 50,
     "metadata": {},
     "output_type": "execute_result"
    }
   ],
   "source": [
    "sum([1 for _ in os.listdir(ENWIKI_LOC)])"
   ]
  },
  {
   "cell_type": "code",
   "execution_count": null,
   "metadata": {},
   "outputs": [],
   "source": []
  }
 ],
 "metadata": {
  "interpreter": {
   "hash": "7b87c1d3ab45aa43570b770b85056e3932dbddf43e01c1d13aa1a9a9935e3e26"
  },
  "kernelspec": {
   "display_name": "Python 3.8.10 ('gio': virtualenv)",
   "language": "python",
   "name": "python3"
  },
  "language_info": {
   "codemirror_mode": {
    "name": "ipython",
    "version": 3
   },
   "file_extension": ".py",
   "mimetype": "text/x-python",
   "name": "python",
   "nbconvert_exporter": "python",
   "pygments_lexer": "ipython3",
   "version": "3.8.10"
  },
  "orig_nbformat": 4
 },
 "nbformat": 4,
 "nbformat_minor": 2
}
