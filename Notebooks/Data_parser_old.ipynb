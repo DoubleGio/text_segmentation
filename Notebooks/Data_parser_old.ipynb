{
 "cells": [
  {
   "cell_type": "code",
   "execution_count": null,
   "id": "diagnostic-imaging",
   "metadata": {
    "pycharm": {
     "name": "#%%\n"
    }
   },
   "outputs": [],
   "source": [
    "import pandas as pd\n",
    "import json\n",
    "import requests\n",
    "import urllib.request\n",
    "import numpy as np\n",
    "import os\n",
    "import time"
   ]
  },
  {
   "cell_type": "markdown",
   "id": "hairy-replica",
   "metadata": {
    "pycharm": {
     "name": "#%% md\n"
    }
   },
   "source": [
    "## import all the summaries"
   ]
  },
  {
   "cell_type": "code",
   "execution_count": null,
   "id": "coordinated-neighbor",
   "metadata": {
    "pycharm": {
     "name": "#%%\n"
    }
   },
   "outputs": [],
   "source": [
    "path = '../data/20210315_sample/'\n",
    "\n",
    "# Slaat de bestandsnamen en summaries op als lists\n",
    "name_list = []\n",
    "sum_list = []\n",
    "\n",
    "for f in os.listdir(path):\n",
    "    if f.endswith('.txt'):\n",
    "        name_list.append(f[:-4])\n",
    "        sum_list.append(open(path+f, 'r').read())"
   ]
  },
  {
   "cell_type": "code",
   "execution_count": null,
   "id": "central-teacher",
   "metadata": {
    "pycharm": {
     "name": "#%%\n"
    }
   },
   "outputs": [],
   "source": [
    "# manier om meer te laten zien van een dataframe item.\n",
    "pd.set_option('display.max_colwidth', 1000)\n",
    "\n",
    "# Store in dataframe, totale dataset beter in np array dit weglaten?\n",
    "df = pd.DataFrame()\n",
    "df['filename'] = name_list\n",
    "df['summary'] = sum_list\n",
    "# df.head()"
   ]
  },
  {
   "cell_type": "code",
   "execution_count": null,
   "id": "several-arctic",
   "metadata": {
    "pycharm": {
     "name": "#%%\n"
    }
   },
   "outputs": [],
   "source": [
    "\n",
    "# ts = df[df['filename']== '61FB7787-C915-44EA-B7B2-0047A99ABF12']['summary']\n",
    "# print(\"Samenvatting voor de text in volgende cell:\")\n",
    "# print(ts.to_string(index=False))"
   ]
  },
  {
   "cell_type": "markdown",
   "id": "varied-courtesy",
   "metadata": {
    "pycharm": {
     "name": "#%% md\n"
    }
   },
   "source": [
    "## import the transcribed text"
   ]
  },
  {
   "cell_type": "markdown",
   "id": "regional-scottish",
   "metadata": {
    "pycharm": {
     "name": "#%% md\n"
    }
   },
   "source": [
    "##  the rigth timeframe to acces the target text to summarize\n",
    "### 1. store the start and end time with the corresponding summaries"
   ]
  },
  {
   "cell_type": "code",
   "execution_count": null,
   "id": "enormous-swing",
   "metadata": {
    "pycharm": {
     "name": "#%%\n"
    }
   },
   "outputs": [],
   "source": [
    "def min_to_ms(timestamp):\n",
    "    # input timestamp: 01:mm:ss\n",
    "    # output ms\n",
    "    ts_split = timestamp.split(':')\n",
    "    ts_split = list(map(int, ts_split))\n",
    "    ms = (ts_split[1]*60 + ts_split[2]) *1000\n",
    "    return ms"
   ]
  },
  {
   "cell_type": "code",
   "execution_count": null,
   "id": "cardiovascular-chase",
   "metadata": {
    "pycharm": {
     "name": "#%%\n"
    }
   },
   "outputs": [],
   "source": [
    "# convert start-/endtime to ms[]\n",
    "df_mani = pd.read_csv(path+'manifest.csv', delimiter =';')\n",
    "df_mani.columns = ['filename','date', 'starttime', 'endtime', 'jsonurl', 'mediafile']\n",
    "df_mani['starttime'] = df_mani['starttime'].apply(min_to_ms)\n",
    "df_mani['endtime'] = df_mani['endtime'].apply(min_to_ms)\n",
    "# df_mani.head()"
   ]
  },
  {
   "cell_type": "code",
   "execution_count": null,
   "id": "north-mirror",
   "metadata": {
    "pycharm": {
     "name": "#%%\n"
    }
   },
   "outputs": [],
   "source": [
    "# append to df\n",
    "df_time = pd.merge(df, df_mani, on=['filename'])\n",
    "df_time.head()"
   ]
  },
  {
   "cell_type": "markdown",
   "id": "unavailable-environment",
   "metadata": {
    "pycharm": {
     "name": "#%% md\n"
    }
   },
   "source": [
    "### 2. retrieve corresponding transcript based on timestamps"
   ]
  },
  {
   "cell_type": "code",
   "execution_count": null,
   "id": "future-worship",
   "metadata": {
    "pycharm": {
     "name": "#%%\n"
    }
   },
   "outputs": [],
   "source": [
    "def get_target_text(jsonurl, starttime, endtime):\n",
    "\n",
    "#     # open de json file\n",
    "#     with urllib.request.urlopen(jsonurl) as url:\n",
    "#         data_json = json.loads(url.read().decode())\n",
    "#         print(url)\n",
    "    data_json = json.loads(requests.get(jsonurl).text)\n",
    "        \n",
    "    trans_text = \"\"\n",
    "    for part in data_json:\n",
    "        for i in range(len(part['result'])):\n",
    "            if (starttime <= int(part['result'][i][1])) & (int(part['result'][i][2]) <= endtime +1000):\n",
    "                trans_text += part['result'][i][0] + \" \"\n",
    "    return trans_text\n"
   ]
  },
  {
   "cell_type": "code",
   "execution_count": null,
   "id": "loaded-compression",
   "metadata": {
    "pycharm": {
     "name": "#%%\n"
    }
   },
   "outputs": [],
   "source": [
    "# retrieve the transcripts\n",
    "df_time['target_text'] = df_time.apply(lambda x: get_target_text(x['jsonurl'], x['starttime'], x['endtime']), axis=1)"
   ]
  },
  {
   "cell_type": "code",
   "execution_count": null,
   "id": "copyrighted-watts",
   "metadata": {
    "pycharm": {
     "name": "#%%\n"
    }
   },
   "outputs": [],
   "source": [
    "df_time.head()"
   ]
  },
  {
   "cell_type": "code",
   "execution_count": null,
   "id": "productive-ethics",
   "metadata": {
    "pycharm": {
     "name": "#%%\n"
    }
   },
   "outputs": [],
   "source": [
    "#save as CSV file\n",
    "df_time.to_csv(path_or_buf = '../data/summary_with_target.csv', index=False)\n",
    "df_cleaned = df_time[['filename','target_text','summary']]\n",
    "df_cleaned.to_csv(path_or_buf = '../data/summary_with_target_cleaned.csv', index=False)"
   ]
  },
  {
   "cell_type": "code",
   "execution_count": null,
   "id": "nutritional-spouse",
   "metadata": {
    "pycharm": {
     "name": "#%%\n"
    }
   },
   "outputs": [],
   "source": [
    "df_cleaned.head(50)"
   ]
  },
  {
   "cell_type": "code",
   "execution_count": null,
   "id": "prerequisite-tribute",
   "metadata": {
    "pycharm": {
     "name": "#%%\n"
    }
   },
   "outputs": [],
   "source": [
    "\n"
   ]
  },
  {
   "cell_type": "code",
   "execution_count": null,
   "id": "shared-outreach",
   "metadata": {
    "pycharm": {
     "name": "#%%\n"
    }
   },
   "outputs": [],
   "source": []
  }
 ],
 "metadata": {
  "kernelspec": {
   "display_name": "Python 3",
   "language": "python",
   "name": "python3"
  },
  "language_info": {
   "codemirror_mode": {
    "name": "ipython",
    "version": 3
   },
   "file_extension": ".py",
   "mimetype": "text/x-python",
   "name": "python",
   "nbconvert_exporter": "python",
   "pygments_lexer": "ipython3",
   "version": "3.9.2"
  }
 },
 "nbformat": 4,
 "nbformat_minor": 5
}
