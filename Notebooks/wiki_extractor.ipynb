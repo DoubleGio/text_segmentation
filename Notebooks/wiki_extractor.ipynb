{
 "cells": [
  {
   "cell_type": "code",
   "execution_count": 1,
   "metadata": {},
   "outputs": [],
   "source": [
    "import os, sys\n",
    "from WikiExtractorCustom import WikiExtractor\n",
    "# from wikiextractor import WikiExtractor"
   ]
  },
  {
   "cell_type": "markdown",
   "metadata": {},
   "source": [
    "### Using [WikiExtractor]((https://github.com/attardi/wikiextractor))"
   ]
  },
  {
   "cell_type": "code",
   "execution_count": null,
   "metadata": {},
   "outputs": [],
   "source": [
    "dump_file = '../NLWiki/nlwiki-latest-pages-articles.xml.bz2'\n",
    "output_dir = '../NLWiki'"
   ]
  },
  {
   "cell_type": "markdown",
   "metadata": {},
   "source": [
    "##### Example read of dump file"
   ]
  },
  {
   "cell_type": "code",
   "execution_count": 3,
   "metadata": {},
   "outputs": [],
   "source": [
    "f = WikiExtractor.decode_open(dump_file)\n",
    "f.seek(0)\n",
    "for i in range(200):\n",
    "    print(f.readline())\n",
    "f.close()"
   ]
  },
  {
   "cell_type": "markdown",
   "metadata": {},
   "source": [
    "##### Example read of a single article"
   ]
  },
  {
   "cell_type": "code",
   "execution_count": 2,
   "metadata": {},
   "outputs": [
    {
     "name": "stdout",
     "output_type": "stream",
     "text": [
      "<doc id=\"1\" url=\"https://nl.wikipedia.org/wiki?curid=1\" title=\"Albert Speer\">\n",
      "Albert Speer\n",
      "\n",
      "Berthold Konrad Hermann Albert Speer (Mannheim, 19 maart 1905 – Londen, 1 september 1981) was een Duits architect en stedenbouwkundige. Tijdens de naziheerschappij over Duitsland (1933-1945) was hij vanaf 1937 rijksarchitect en vanaf 1942 rijksminister van Bewapening en Munitie. Door zijn vriendschap met Adolf Hitler en zijn ministerschap gold hij als een van de machtigste mannen van het Derde Rijk. Na de oorlog werd Speer in Neurenberg veroordeeld tot twintig jaar gevangenisstraf.\n",
      "===Voor 1933.===\n",
      "Het gezin waarin Speer werd geboren, was wat ze in het Duits noemen \"grossbürgerlich\"; in Nederlandse termen gegoede burgerij of bourgeoisie. Zijn vader en grootvader waren beiden architecten. Om financiële redenen studeerde Speer aanvankelijk in Karlsruhe. Van de lente van 1924 tot de zomer van 1925 zette hij zijn studie vervolgens voort aan de technische hogeschool van München. In de herfst van 1925 verhuisde hij naar Berlijn en probeerde hij vergeefs aan de Technische Hogeschool in Berlijn-Charlottenburg in het seminarie van Hans Poelzig toegelaten te worden. In 1926 ontving Heinrich Tessenow, een architect van de behoudende school met een zeer bescheiden en niet megalomane stijl, een leerstoel. Speer werd in dat jaar een van zijn studenten. Na zijn diploma te hebben behaald in 1927 bleef Speer nog meerdere jaren, als Tessenows assistent, aan de hogeschool verbonden.\n",
      "===Architect in dienst van Hitler.===\n",
      "Speer was niet bijzonder geïnteresseerd in politiek. Hij werd echter reeds in januari 1931 lid van de NSDAP nadat hij in december 1930 een toespraak van Adolf Hitler had bijgewoond in de Berlijnse Hasenheide. Deze toespraak had een diepe indruk gemaakt op Speer. Zelf schreef hij dat hij een maand had getwijfeld, maar dat hij uiteindelijk toch besloten had om lid te worden, omdat Hitler helemaal niet stereotiep was overgekomen in de toespraak. Het was een zeer rustige toespraak waarin het woord 'Jood' niet één keer was gevallen.\n",
      "In 1932 verliet Speer Berlijn en ging terug naar Mannheim. Hij vestigde zich daar als architect, maar hij kreeg geen opdrachten. In 1934 werd hem gevraagd de meivieringen van de partij vorm te geven. Speers originele idee was om rond het veld in Neurenberg waar de parades werden afgenomen een reeks zoeklichten recht omhoog te laten schijnen. Hierdoor ontstond een mooi lichtspel wat een koepel van licht boven het paradeveld veroorzaakte. Hitler was hierover zeer enthousiast en zo werd Speer Hitlers huisarchitect.\n",
      "Toen Hitlers toenmalige \"Hofarchitekt\", de uit München afkomstige Paul Ludwig Troost, in 1934 overleed, nam Speer diens taken over, waarmee hij zijn formele leidinggevende Rudolf Hess feitelijk snel overschaduwde in macht en ook in aanzien bij Hitler. Speer ontwierp talrijke gebouwen in klassieke stijl, die als doel hadden de pracht en de macht van het Derde Rijk te tonen en te onderstrepen. In het Deutsche Arbeitsfront (DAF) leidde hij de afdeling Schönheit der Arbeit. Verder werd hij de chef van de onderafdeling van de Rijkspropagandaleiding en verantwoordelijk voor de stedenbouw in de staf van Rudolf Hess.\n",
      "Voor de wereldtentoonstelling van 1937 in Parijs ontwierp hij het Duitse paviljoen. Het hoofdbestanddeel bestond uit een enorme toren in classicistische stijl met een grote Duitse adelaar erop. Speer kreeg er de Grand Prix met een gouden medaille voor.\n",
      "De belangrijkste gebouwen en de aanleg van urbane ruimtes voor het Derde Rijk ontwierp Speer echter in Berlijn en Nürnberg. Berlijn als rijkshoofdstad en bestuurscentrum lag voor de hand. In Nürnberg werden voor de machtsovername al diverse zogenaamde partijdagen gehouden, propagandistische massabijeenkomsten georganiseerd door de NSDAP, om het nationaalsocialisme te etaleren aan de Duitse kiezers. Deze Beierse stad lag niet ver van München, de bakermat van de nazipartij, en was daarbij goed bereikbaar via een uitgebreid verkeersnetwerk en bezat als toeristische trekpleister voldoende hotels om veel volk onderdak te bieden. Nürnberg kozen de nazi's ook meer symbolisch als zijnde een belangrijke vroegere rijksstad van het Heilige Roomse Rijk, de plek waar men destijds de rituele symbolen van de keizerlijke macht bewaarde zoals de rijksappel, de scepter en de kroon. De nazi's zetten met de keuze van Nürnberg een eeuwenoude traditie van jaarmarkten, machtige keizers en kastelen voort door daar de nazipartijdagen te laten plaatsvinden. Na de verkiezingsoverwinning in 1933 ging het terrein van de partijdagen grondig op de schop en werd in opdracht van Hitler flink uitgebreid.\n",
      "===Berlijn.===\n",
      "In 1937 werd hij benoemd tot regeringscommissaris voor de bouw in de staf van de Führer en inspecteur-generaal voor de bouwnijverheid in Berlijn. Zijn ontwerpen waren naar de smaak van Hitler die hield van gebouwen in een neoclassicistische stijl met een minimalistische uitstraling maar dan vergroot tot buitensporige afmetingen. Voor de spaarzame aankleding wilde Hitler het liefst de klassieke Arische beelden gebruiken van de hand van de door Hitler bewonderde Arno Breker. Vooral voor Berlijn had Hitler grootse plannen. Deze stad zou na de \"Endsieg\" herdoopt worden in Germania (overigens is Speer de enige bron die dit beweerde). Met talloze statige bouwwerken en brede boulevards wilde Hitler aan zijn hoofdstad een enorme grandeur geven. Hitlers en Speers megalomane motto was: 'hoe groter hoe beter'. Speer ordonneerde stabiliteitstesten in de moerassige grond van Berlijn om na te gaan of deze het enorme gewicht van de geplande gebouwen kon dragen. Daartoe bouwde de firma Dyckerhoff &amp; Widmann AG in 1941 tegen de prijs van 400 000 Reichsmark aan de rand van Berlijn het Schwerbelastungskörper. Het betrof een betonnen 12 360 ton wegende cilinder met een diameter van 21 m. De nog intact zijnde kolos veroorzaakte volgens Speers metingen een verzakking van 19 cm. De Berlijnse ondergrond was bijgevolg geschikt voor het bouwen van dergelijke grootschalige bouwwerken. &lt;br&gt;Tevens werd een begin gemaakt met het aanleggen van de weids opgezette boulevards. In 1938 en 1939 werd in recordtijd de bouw van de nieuwe Rijkskanselarij aan de Wilhelmstrasse en de Voßstraße voltooid. Speer toonde zich hier al als een goede bouworganisator. Het bouwwerk met gigantische afmetingen (het geheel mat 200 ha) was voor Hitler een representatieve plaats om de buitenlandse gasten en diplomaten te ontvangen. Zij moesten op deze wijze onder de indruk raken van de grootsheid van het Duitse Rijk. Het merkwaardigste onderdeel van het geheel betrof een lange rechte galerij van 146 m lengte, twee maal zo lang als de spiegelzaal in Versailles van 73 meter, met een spiegelgladde vloer die leidde naar de persoonlijke ontvangstruimten van Hitler; deze \"straat\" werd \"der lange Marsch der Diplomaten\" genoemd. Sommigen maakten de opmerking dat de gladde vloer eigenlijk wel gevaarlijk was om op te lopen. Hitler wimpelde deze bezwaren weg met de woorden: “Diplomaten zijn wel gewend om zich op glad ijs te begeven”. Door het uitbreken van de oorlog moesten verdere plannen echter opgeschort worden. Gereed kwamen wel het vliegveld Tempelhof dat nog steeds een van de grootste luchthavengebouwen ter wereld heeft. Ook het nog steeds gebruikte Olympisch Stadion van 1936 was een onderdeel van de herbouw van Berlijn. Hitlers nieuwe kanselarij werd tijdens de eindstrijd in 1945 zwaar beschadigd en kort na de oorlog afgebroken.\n",
      "===Nürnberg.===\n",
      "In deze vroegere Rijksstad, in het Nederlands wordt de stad meestal Neurenberg genoemd, ontwierp Speer vanaf 1934 een aantal gebouwen op het \"Reichsparteitagsgelände\" (de terreinen van de rijkspartijdagen) vertrekkende van het masterplan van architect-urbanist Paul Ludwig Troost. Troost kreeg van de partij opdracht om een recreatiegebied aan de stadsrand om te vormen tot een geschikte locatie voor een massa-evenement het zogenoemde \"Reichtsparteigelände\", een gebied van 11 km². Men verplaatste daartoe de dierentuin en de vuurtoren brak men af. Men voorzag in een Große Straße van 1,5 km lengte en 50 m breed die visueel aansloot op de middeleeuwse keizerlijke burcht van Nürnberg. Gevangenen van het concentratiekamp Flossenbürg en Mauthausen kapten het graniet voor de 6 000 tegels waarover de soldaten zouden marcheren. Langs deze lange straatas plande men de Luitpoldarena, het Zeppelinveld, het Deutsches Stadion, een Hitlerjugendstadion, een Marsveld en twee treinstations. Slechts het Zeppelinveld met dito tribune naar een ontwerp van Speer werd afgewerkt. De kosten van de oorlogsindustrie beletten de verdere uitbouw van al deze megalomane plannen. Voor de tribune met een lengte van 360 m stond het antieke kleinschaligere Pergamonaltaar model. 320 000 toeschouwers konden de parades op het Zeppelinfeld volgen. Bij nacht schenen 250 grote spots de lucht in als een van ver te ziene lichtkathedraal. Nu is de plek herschapen tot een ruïne en op eigen risico te betreden. Via Google Earth kan men inzoomen op het Zeppelinveld en krijgt men een beeld van de huidige vervallen toestand.\n",
      "Op deze plek filmde Leni Riefenstahl Hitlers propagandafilm Triumph des Willens over de aldaar gehouden Rijkspartijdag van 5 september 1934. Neurenberg is ook bekend van de Rassenwetten van Neurenberg en het ontnemen van burgerrechten van Joden. In deze stad vonden ook de naoorlogse processen van Neurenberg plaats. Door misleiding van het tribunaal wist Speer aan de doodstraf te ontkomen.\n",
      "===Speer als organisator en minister van bewapening vanaf 1942.===\n",
      "Toen Hitler later meer en meer door de oorlog werd opgeslokt, verminderde zijn aandacht voor Speer maar hij verloor Speer omwille van zijn goede managerskwaliteiten niet echt uit het oog. Op 8 februari 1942 werd Speer, ondanks (of misschien wel dankzij) zijn vrij geringe politieke aspiraties, door Hitler benoemd als opvolger van de bij een vliegtuigongeluk omgekomen rijksminister voor Bewapening en Munitie, Fritz Todt. Speer gebruikte al zijn organisatietalent, reorganiseerde de productie van wapens en munitie en wist zo de productie in 1944 tot een viervoud te brengen van die van 1942 ondanks de vele geallieerde bombardementen. Vele historici menen daarom ook dat het vooral Speer is die ervoor gezorgd heeft dat de Tweede Wereldoorlog misschien wel een jaar langer geduurd heeft dan anders het geval zou zijn geweest. Het is ontnuchterend te bedenken dat in dat ene laatste jaar net zoveel doden vielen als in de gezamenlijke vier jaren ervoor.\n",
      "===Het \"Endspiel\".===\n",
      "===Hitlers laatste bevelen aan Speer.===\n",
      "In de laatste weken van de oorlog weigerde hij Hitlers bizarre bevelen nog langer uit te voeren. Hitler wist dat de oorlog verloren was en wilde het Duitse volk, dat in zijn ogen in zijn missie gefaald had, met hem mee de afgrond in sleuren in een soort \"Götterdämmerung\" met het Nero-bevel. Dit moest bereikt worden door het vernietigen van de nog overgebleven, vitale delen van Duitsland en de bezette gebieden: de tactiek van de verschroeide aarde. Speer dacht al aan het overleven van de bevolking en de wederopbouw van Duitsland na de oorlog en gaf Hitlers bevelen niet meer door aan de afdeling die voor de uitvoering moest zorgen. Een eerder voorbeeld was Hitlers bevel in 1944 om Parijs te vernietigen toen de geallieerden de stad naderden. Doordat de Duitse commandant van Parijs (luitenant-generaal Dietrich von Choltitz) hier niet aan meewerkte en ook door de zeer snelle omsingeling en verovering van Parijs werd dit verhinderd.\n",
      "===Arrestatie.===\n",
      "Op 24 april 1945 vloog Speer, die Berlijn al was ontvlucht, speciaal terug om in de bunker onder de Rijkskanselarij afscheid van zijn Führer te kunnen nemen. Hitler pleegde uiteindelijk op 30 april zelfmoord, samen met Eva Braun die even tevoren met hem getrouwd was, en liet zijn instortende \"Derde Rijk\" in totale chaos achter. Op 23 mei 1945 werd Speer samen met Karl Dönitz (door Hitler per testament aangewezen als zijn opvolger) gearresteerd in Flensburg, van waaruit verschillende nazileiders, die niet in Berlijn waren gebleven, tevergeefs vredesonderhandelingen met de geallieerden trachtten te voeren.\n",
      "===Proces van Neurenberg en gevangenschap.===\n",
      "Op 1 oktober 1946 werd Speer op het Proces van Neurenberg veroordeeld tot twintig jaar gevangenisstraf, vooral vanwege het feit dat onder zijn leiding één miljoen van de in totaal zes miljoen dwangarbeiders uit de bezette gebieden tijdens de oorlogsjaren in de wapenindustrie te werk waren gesteld. Van alle veroordeelde nazikopstukken was hij de enige die zich \"verantwoordelijk\" verklaarde voor de misdrijven van de nazistaat. Desondanks pleitte hij niet schuldig met als argument dat hij nooit persoonlijk opdrachten ondertekend had om gevangenen te deporteren. Speer schoof zijn volledige schuld af op de Minister van Arbeid, Fritz Sauckel die wel werd opgehangen. Zijn straf zat hij grotendeels uit in de Spandaugevangenis in Berlijn. Op 1 oktober 1966 kwam hij vrij.\n",
      "===Speer als de “nette nazi”.===\n",
      "Speer heeft tijdens het proces in Neurenberg als enige top-nazi bekend medeverantwoordelijk te zijn aan de misdaden die tijdens het Derde Rijk zijn begaan. Dit medeschuldig zijn werd door hemzelf echter weer snel gebagatelliseerd: hij schilderde zichzelf af als iemand die verblind was door Hitlers megalomane dromen. Vooral de mogelijkheid om zijn gigantische architectonische ontwerpen, met behulp van Hitlers steun, onbegrensd te kunnen verwezenlijken had Speer, naïef als hij toen volgens zichzelf was, over de streep getrokken. Met deze zienswijze suggereerde Speer dat zijn medewerking aan het regime toch enigszins buiten zijn schuld om was gebeurd: hij wist niet beter. Van de gruwelijke toestanden in de vernietigingskampen en de Jodenvervolging had Speer (naar eigen zeggen) \"sowieso keine Ahnung\" (geen weet).\n",
      "Verder schreef hij, om zich te verdedigen tijdens het Neurenberg-proces, nog enkele \"goede\" maatregelen op zijn naam; zo verklaarde hij bij het zien van de slaapplaatsen van de dwangarbeiders in de steenhouwerijen en fabrieken van V2-raketten voor betere verblijfplaatsen te hebben gezorgd.\n",
      "===Na 'Spandau' en Speers overlijden.===\n",
      "Speer woonde na zijn vrijlating in de villa in Heidelberg die zijn vader in 1905 had laten bouwen. Hij kwam daarna niet echt meer voor het voetlicht, op een enkel interview na, en besteedde zijn tijd aan het uitwerken van zijn aantekeningen en het publiceren ervan in verscheidene boeken. Door de inkomsten van zijn boeken en, zoals later bleek, ook door de heimelijke verkoop van tijdens de oorlog geroofde schilderijen kon Speer tot zijn dood een welgesteld leven leiden. In 1981, tijdens een bezoek aan Londen, overleed Speer vrij onverwacht aan een herseninfarct.\n",
      "===Nalatenschap en het einde van de mythe.===\n",
      "Speer liet veel tekeningen en een enorme hoeveelheid dagboekaantekeningen na, die uit de gevangenis waren gesmokkeld. Deze werden in 1969 in boekvorm uitgegeven onder de titel \"Spandauer Tagebücher\" (later vertaald in het Engels onder de titel \"Spandau – the secret diaries\"). Zijn levensverhaal vertelt hij in \"Erinnerungen\" (\"Herinneringen\"). Ook over de rol van de SS schreef hij een boek: \"Der Sklavenstaat: Meine Auseinandersetzungen mit der SS\". Tot slot is ook het boek \"Technik und Macht\" min of meer van zijn hand, namelijk Speers woorden, vastgelegd door Adelbert Reif.\n",
      "Niet lang voor Speers onverwachte dood kwamen Duitse onderzoekers op het spoor van Speers werkelijke verantwoordelijkheid voor oorlogsmisdrijven. Speers vroegere medewerker Wolters was een fanatiek nazi gebleven en was zo verontwaardigd over Speers \"verraad\" van Hitler dat hij op zijn beurt onthullingen deed over Speer. Zo was het Speer die regelde dat tijdens de voorbereidingen voor de aanleg van de brede boulevards in Berlijn de Duitse bewoners van 23 765 onteigende woningen de woningen van Joden kregen toegewezen. De Joodse bewoners werden op transport gezet naar de concentratiekampen. Albert Speer heeft zijn ontmaskering niet meer meegemaakt.\n",
      "Onderzoek dat na de dood van Speer door Matthias Schmidt werd gepubliceerd, toonde aan dat Speer een zorgvuldig web van misleiding rond zijn werkelijke aandeel in de oorlogsmisdaden had geweven. Nauwkeurig historisch onderzoek van de Duitse historicus Magnus Brechtken ontkracht systematisch de door Speer geschapen mythe van Hitlers \"onwetende architect\". Speer stelde onder meer niet aanwezig te zijn geweest bij de beruchte rede in Posen waarin Heinrich Himmler de nazileiders betrok bij de massamoord op de Joden. Himmler sprak op de geluidsopname daarentegen rechtstreeks tot Speer, dat wil zeggen, alsof Speer aanwezig was. Ook een document waarop materiaal voor de bouw van crematieovens en lijkenkelders in een concentratiekamp werd vrijgegeven met Speers handtekening van goedkeuring erop was voor Speer zeer belastend. In overleg met SS leider Heinrich Himmler besprak en leidde Speer als \"Generalbauinspektor\" de uitbreiding van het concentratiekamp Auschwitz. De kampen Sachsenhausen en Mauthausen ontstonden op aansturen van Speer om slavenarbeiders te leveren voor de ontginning van graniet, nodig voor Speers monumentale nazibouwwerken.\n",
      "Speer heeft zijn medeplichtige Rudolf Wolters na de oorlog opdracht gegeven om belastende documenten te vernietigen. In de memoires liegt Speer over zijn bezigheden vlak voor de val van het Derde Rijk. Speer heeft een kostbare collectie romantische schilderijen, gestolen of afgeperst uit Joods bezit, verborgen. Na zijn vrijlating heeft hij de schilderijen voorzichtig en anoniem verkocht. De contant uitbetaalde opbrengst werd weggesluisd, waarschijnlijk naar zijn jonge maîtresse. De kunstwerken brachten een miljoen mark op. De opbrengst van de speculatie met een van de Joodse bankierserfgename Marie-Anne von Goldschmidt-Rothschild afgeperst stuk kostbare bouwgrond aan de oever van Schwanenwerder bij Berlijn moest Speer restitueren. Dat heeft hij ondanks een veroordeling nooit gedaan.\n",
      "Gesprekken met Gitta Sereny leidden tot een boek van haar hand. Ze portretteerde Speer als een man die niet met zichzelf in het reine kon komen.\n",
      "===Perspectief voor Speers architectuur.===\n",
      "Speer bedacht het Ruinenwert-principe. Dit hield in dat de ontwerper een gebouw zo moest vormgeven dat het ook als ruïne mooi zou ogen. De aftakeling van Speers gebouwen startte vlugger dan voorzien. De tribune van het Zeppelinveld van het Reichsparteigelände in Nürnberg brokkelde af vanaf de jaren zestig van de twintigste eeuw. Het stadsbestuur moest daartoe in 1967 een deel van de bouwvallige zuilengalerij afbreken. De tienduizenden toeristen die de gebouwen jaarlijks bezoeken maken nu hun selfies op eigen risico.&lt;br&gt;Het grootschalige karakter van Speers bouwwerken en de nu nog grote aanwezigheid ervan vooral in Nürnberg, plaatsen de Duitsers voor een moeilijke gewetensoefening om hoe om te gaan met dit beladen erfgoed dat voortdurend herinnert aan de naziperiode. Het Neurenbergse stadsbestuur is nu (2016) gewonnen voor het idee om dit patrimonium ondanks de oplopende kosten in stand te houden en in te richten als plek van educatie en herinnering. Daartoe bouwde men in 2001 al een \"Dokumentationszentrum Reichsparteitagsgelände\" aan de noordelijk gelegen kop van het congrescentrum dat in 1935 gebouwd werd door architect Ludwig Ruff op het terrein. Aldaar ingerichte tentoonstellingen geven een beeld van de \"Ursachen, Zusammenhängen und Folgen der nationalsozialistischen Gewaltherrschaft.\"\n",
      "===Besluit.===\n",
      "Nauwkeurig en uitvoerig bronnenonderzoek leidt tot de conclusie dat Speer tijdens het twaalf jaar (1933-1945) durend nazi-bewind twee doelen nastreefde: de nationaalsocialistische leer helpen uitvoeren en zichzelf verrijken. Tijdens de Neurenbergse processen en nadien stelde Speer alles in het werk om dit te verdoezelen en zichzelf neer te zetten als een \"nette onwetende technocraat\" die slechts voor het regime burgerlijke bouwwerken bedacht en uitvoerde. Daarbij kreeg hij uitgebreide hulp van journalist/historicus Joachim Fest en betrokken partij uitgeverij Siedler.&lt;br&gt;De Duitse historicus Magnus Brechtken, directeur van het \"Institut für Zeitgeschichte\" in München, deed in dit verband een oproep om memoires, gedenkboeken en interviews nooit meer aan te wenden bij geschiedschrijving. Zij vormen in het slechtste geval \"een slinks samenstel van afleidingstrucs, retorische rookgordijnen en onversneden leugens\". Een \"wake-up call\" in tijden van alom aanwezig fake news.\n",
      "===Wetenswaardig.===\n",
      "Albert Speer had zes kinderen. Een van zijn zonen, Albert Speer jr. (1934-2017), was eveneens een bekend architect en stadsplanner en ontwerper van voetbalstadions in Qatar voor het WK van 2022.\n",
      "===Literatuur.===\n",
      "Verder bestaat er een boek \"Die intelligente Stadt\", auteur Albert Speer, maar in dit geval betreft het Speers oudste zoon.\n",
      "\n",
      "</doc>\n"
     ]
    }
   ],
   "source": [
    "WikiExtractor.wiki_extract(dump_file, '-', bytes='0', n_articles=1, headers_mark=\"===\")"
   ]
  },
  {
   "cell_type": "markdown",
   "metadata": {},
   "source": [
    "##### The real deal"
   ]
  },
  {
   "cell_type": "code",
   "execution_count": null,
   "metadata": {},
   "outputs": [],
   "source": []
  }
 ],
 "metadata": {
  "interpreter": {
   "hash": "7b87c1d3ab45aa43570b770b85056e3932dbddf43e01c1d13aa1a9a9935e3e26"
  },
  "kernelspec": {
   "display_name": "Python 3.8.10 ('gio': virtualenv)",
   "language": "python",
   "name": "python3"
  },
  "language_info": {
   "codemirror_mode": {
    "name": "ipython",
    "version": 3
   },
   "file_extension": ".py",
   "mimetype": "text/x-python",
   "name": "python",
   "nbconvert_exporter": "python",
   "pygments_lexer": "ipython3",
   "version": "3.8.10"
  },
  "orig_nbformat": 4
 },
 "nbformat": 4,
 "nbformat_minor": 2
}
