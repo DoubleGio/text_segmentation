{
 "cells": [
  {
   "cell_type": "markdown",
   "metadata": {},
   "source": [
    "## New dataset\n",
    "1. List of ids from jsons\n",
    "2. Retrieve metadata from manifest file\n",
    "3. Create dataframe wih timestamps\n",
    "\n",
    "#### Interval: 2019 01 tm 04"
   ]
  },
  {
   "cell_type": "code",
   "execution_count": 3,
   "metadata": {},
   "outputs": [],
   "source": [
    "path_csv = \"/AI/data/samenvattingen/ArchiefExport_2019.csv\"\n",
    "path_2019 = \"/AI/data/samenvattingen/2019\""
   ]
  },
  {
   "cell_type": "code",
   "execution_count": 4,
   "metadata": {},
   "outputs": [],
   "source": [
    "import pandas as pd\n",
    "import os\n",
    "import numpy as np\n",
    "import json"
   ]
  },
  {
   "cell_type": "markdown",
   "metadata": {},
   "source": [
    "### 1 List of IDs from summarized files"
   ]
  },
  {
   "cell_type": "code",
   "execution_count": 5,
   "metadata": {},
   "outputs": [
    {
     "data": {
      "text/plain": [
       "['895C5577-0CDA-45A3-835A-060EF2454191',\n",
       " '30BCF69B-7CCE-4097-A7AC-05594E837479',\n",
       " 'BA791733-2732-449A-8DC4-077B642085EB',\n",
       " '906D9A09-6E9B-4B01-ADEB-0A13D29D4A71',\n",
       " 'E94B5735-A16D-41A9-A05A-09EE40E240A3']"
      ]
     },
     "execution_count": 5,
     "metadata": {},
     "output_type": "execute_result"
    }
   ],
   "source": [
    "def get_ids(path):\n",
    "   # Get id from file structure\n",
    "   ID_list = []\n",
    "   for root,dir,files in os.walk(path):\n",
    "       if len(files) > 0:\n",
    "           for f in files:\n",
    "               ID_list.append(f)\n",
    "   return(ID_list)\n",
    " \n",
    "id_json = get_ids(path_2019)\n",
    "ids = []\n",
    "for id in range(len(id_json)):\n",
    "   ids.append(id_json[id].split(\".\")[0])\n",
    "\n",
    "ids[:5]"
   ]
  },
  {
   "cell_type": "markdown",
   "metadata": {},
   "source": [
    "### 2 Process manifest file"
   ]
  },
  {
   "cell_type": "code",
   "execution_count": 6,
   "metadata": {},
   "outputs": [
    {
     "name": "stdout",
     "output_type": "stream",
     "text": [
      "Leght dataframe: 22775\n",
      "Lenght ids in folder: 22775\n"
     ]
    }
   ],
   "source": [
    "# Retrieve only processed ids\n",
    "df = pd.read_csv(path_csv)\n",
    "df = df[df[\"ID\"].isin(ids)].copy()\n",
    "print(f'Leght dataframe: {len(df)}\\nLenght ids in folder: {len(ids)}')\n",
    "df.reset_index(drop=True, inplace=True)\n",
    "\n",
    "# Drop irrelevant columns\n",
    "df = df.drop(columns=[\"AlertTime\", \"SpeechUrl\", \"MediaUrl\", \"Summary\"], errors='ignore')\n"
   ]
  },
  {
   "cell_type": "code",
   "execution_count": 7,
   "metadata": {},
   "outputs": [],
   "source": [
    "# Util functions\n",
    "def get_ms(timestamp):\n",
    "   \"\"\"\n",
    "   Transform timestamp from minutes into miliseconds\n",
    "   \"\"\"\n",
    "   ms = 0\n",
    "   timestamp = timestamp.split(\".\")[0]\n",
    "   timestamp = timestamp.split(\":\")\n",
    "   ms += (int(timestamp[1]) * 60 + int(timestamp[2])) * 1000\n",
    "   return ms\n",
    "  \n",
    "def adj_start_ms(x):\n",
    "   \"\"\"\"\n",
    "   Recording start ~5 minutes (30000ms) before segment starts, but recorded times can be any time within a broadcast.\n",
    "   This shifts start times to 5 min or less. Extra 10000ms is added for robustness.\n",
    "   \"\"\"\n",
    "   if x > 300000:\n",
    "       return 310000\n",
    "   else:\n",
    "       return x"
   ]
  },
  {
   "cell_type": "code",
   "execution_count": 8,
   "metadata": {},
   "outputs": [
    {
     "data": {
      "text/html": [
       "<div>\n",
       "<style scoped>\n",
       "    .dataframe tbody tr th:only-of-type {\n",
       "        vertical-align: middle;\n",
       "    }\n",
       "\n",
       "    .dataframe tbody tr th {\n",
       "        vertical-align: top;\n",
       "    }\n",
       "\n",
       "    .dataframe thead th {\n",
       "        text-align: right;\n",
       "    }\n",
       "</style>\n",
       "<table border=\"1\" class=\"dataframe\">\n",
       "  <thead>\n",
       "    <tr style=\"text-align: right;\">\n",
       "      <th></th>\n",
       "      <th>ID</th>\n",
       "      <th>ProgrammeDateTime</th>\n",
       "      <th>duration_ms</th>\n",
       "      <th>adj_start_ms</th>\n",
       "      <th>adj_end_ms</th>\n",
       "    </tr>\n",
       "  </thead>\n",
       "  <tbody>\n",
       "    <tr>\n",
       "      <th>0</th>\n",
       "      <td>E94B5735-A16D-41A9-A05A-09EE40E240A3</td>\n",
       "      <td>2019-01-01 05:00:00.000</td>\n",
       "      <td>331000</td>\n",
       "      <td>310000</td>\n",
       "      <td>641000</td>\n",
       "    </tr>\n",
       "    <tr>\n",
       "      <th>1</th>\n",
       "      <td>168D1E30-8F21-4C9D-A5DD-149D77E233B1</td>\n",
       "      <td>2019-01-01 06:00:00.000</td>\n",
       "      <td>17000</td>\n",
       "      <td>137000</td>\n",
       "      <td>154000</td>\n",
       "    </tr>\n",
       "    <tr>\n",
       "      <th>2</th>\n",
       "      <td>FCDD8B88-9BC5-4F84-BA71-610BFA889314</td>\n",
       "      <td>2019-01-01 06:00:00.000</td>\n",
       "      <td>17000</td>\n",
       "      <td>163000</td>\n",
       "      <td>180000</td>\n",
       "    </tr>\n",
       "    <tr>\n",
       "      <th>3</th>\n",
       "      <td>9F461187-A082-42DF-B09B-7566B290657F</td>\n",
       "      <td>2019-01-01 06:00:00.000</td>\n",
       "      <td>486000</td>\n",
       "      <td>310000</td>\n",
       "      <td>796000</td>\n",
       "    </tr>\n",
       "    <tr>\n",
       "      <th>4</th>\n",
       "      <td>3376B065-A0BD-4E3D-AC05-14B278077F90</td>\n",
       "      <td>2019-01-01 07:00:00.000</td>\n",
       "      <td>333000</td>\n",
       "      <td>310000</td>\n",
       "      <td>643000</td>\n",
       "    </tr>\n",
       "  </tbody>\n",
       "</table>\n",
       "</div>"
      ],
      "text/plain": [
       "                                     ID        ProgrammeDateTime  duration_ms  \\\n",
       "0  E94B5735-A16D-41A9-A05A-09EE40E240A3  2019-01-01 05:00:00.000       331000   \n",
       "1  168D1E30-8F21-4C9D-A5DD-149D77E233B1  2019-01-01 06:00:00.000        17000   \n",
       "2  FCDD8B88-9BC5-4F84-BA71-610BFA889314  2019-01-01 06:00:00.000        17000   \n",
       "3  9F461187-A082-42DF-B09B-7566B290657F  2019-01-01 06:00:00.000       486000   \n",
       "4  3376B065-A0BD-4E3D-AC05-14B278077F90  2019-01-01 07:00:00.000       333000   \n",
       "\n",
       "   adj_start_ms  adj_end_ms  \n",
       "0        310000      641000  \n",
       "1        137000      154000  \n",
       "2        163000      180000  \n",
       "3        310000      796000  \n",
       "4        310000      643000  "
      ]
     },
     "execution_count": 8,
     "metadata": {},
     "output_type": "execute_result"
    }
   ],
   "source": [
    "# Adjust timings and create duration column\n",
    "if \"StartPosition\" in df.keys():\n",
    "    start_ms = df[\"StartPosition\"].apply(get_ms)\n",
    "    end_ms = df[\"EndPosition\"].apply(get_ms)\n",
    "    df[\"duration_ms\"] = end_ms - start_ms\n",
    "    df[\"adj_start_ms\"] = start_ms.apply(lambda x: adj_start_ms(x))\n",
    "    df[\"adj_end_ms\"] = df[\"adj_start_ms\"] + df[\"duration_ms\"]\n",
    "    df = df.drop(columns=[\"StartPosition\", \"EndPosition\", \"start_ms\", \"end_ms\"], errors=\"ignore\")\n",
    "df.head(5)"
   ]
  },
  {
   "cell_type": "markdown",
   "metadata": {},
   "source": [
    "### 3. Parse the transcripts from the json files\n",
    "- Only relevant transcripts for summaries\n",
    "- relevant for Gio\n",
    "- parse from \"text\" ipv \"result\" "
   ]
  },
  {
   "cell_type": "code",
   "execution_count": 9,
   "metadata": {},
   "outputs": [],
   "source": [
    "def get_id_dict(path):\n",
    "   \"\"\"\n",
    "   Create dict, linking json file locations to its ID\n",
    "   \"\"\"\n",
    "   id_dict = {}\n",
    "   for root, _, files in os.walk(path):\n",
    "      for file in files:\n",
    "         if file.endswith(\".json\"):\n",
    "            id_dict[file.split(\".\")[0]] = os.path.join(root, file)\n",
    "\n",
    "   return id_dict\n",
    " \n",
    "def get_paths_by_id(id_dict, id):\n",
    "   return id_dict[id]"
   ]
  },
  {
   "cell_type": "code",
   "execution_count": 10,
   "metadata": {},
   "outputs": [],
   "source": [
    "id_dict = get_id_dict(path_2019)\n",
    "dft = df\n",
    "dft['Path'] = dft['ID'].apply(lambda x: get_paths_by_id(id_dict, x))"
   ]
  },
  {
   "cell_type": "code",
   "execution_count": 28,
   "metadata": {},
   "outputs": [],
   "source": [
    "\"\"\"\n",
    "Dataset JSON loader\n",
    "Recordings are divided into sentences like so:\n",
    "[\n",
    "    {\n",
    "        \"result\": [\n",
    "            [\n",
    "                \"word\",\n",
    "                starttime,\n",
    "                endtime,\n",
    "                confidence\n",
    "            ],\n",
    "            ...\n",
    "        ],\n",
    "        \"text\": entire sentence,\n",
    "        \"speaker\": \"unk\"??\n",
    "    },\n",
    "    ...\n",
    "]\n",
    "\"\"\"\n",
    "def load_json(path):\n",
    "    with open(path) as f:\n",
    "       data = json.load(f)\n",
    "    return data\n",
    " \n",
    "def get_index(data, start, end):\n",
    "    # Get the beginning of sentence times\n",
    "    bos_times = []\n",
    "    for i in range(len(data)):\n",
    "        bos_times.append(data[i]['result'][0][1])\n",
    "    \n",
    "    # Find bos_time closest to start/end and return the index\n",
    "    if len(bos_times) > 0:\n",
    "        s = min(bos_times, key=lambda x:abs(x-start))\n",
    "        e = min(bos_times, key=lambda x:abs(x-end))\n",
    "        return bos_times.index(s), bos_times.index(e)\n",
    "    else:\n",
    "        return 0, 0\n",
    " \n",
    "def get_sentences(data, start_index, end_index):\n",
    "   sentences = []\n",
    "   for i in range(start_index, end_index):\n",
    "       sentences.append(data[i]['text'])\n",
    "   return sentences\n",
    " \n",
    "def combine_functions(data, start_ms, end_ms):\n",
    "   start_index, end_index = get_index(data, start_ms, end_ms)\n",
    "   sentences = get_sentences(data, start_index, end_index)\n",
    "   return sentences\n"
   ]
  },
  {
   "cell_type": "code",
   "execution_count": 29,
   "metadata": {},
   "outputs": [],
   "source": [
    "def get_index_from_path(path, start_ms, end_ms):\n",
    "   data = load_json(path)\n",
    "   start_index, end_index = get_index(data, start_ms, end_ms)\n",
    "   return start_index, end_index\n",
    " \n",
    "def get_senteces_from_index(path, index):\n",
    "   data = load_json(path)\n",
    "   start_index, end_index = index[0], index[1]\n",
    "   sentences = get_sentences(data, start_index, end_index)\n",
    "   return sentences"
   ]
  },
  {
   "cell_type": "code",
   "execution_count": 30,
   "metadata": {},
   "outputs": [
    {
     "data": {
      "text/html": [
       "<div>\n",
       "<style scoped>\n",
       "    .dataframe tbody tr th:only-of-type {\n",
       "        vertical-align: middle;\n",
       "    }\n",
       "\n",
       "    .dataframe tbody tr th {\n",
       "        vertical-align: top;\n",
       "    }\n",
       "\n",
       "    .dataframe thead th {\n",
       "        text-align: right;\n",
       "    }\n",
       "</style>\n",
       "<table border=\"1\" class=\"dataframe\">\n",
       "  <thead>\n",
       "    <tr style=\"text-align: right;\">\n",
       "      <th></th>\n",
       "      <th>ID</th>\n",
       "      <th>ProgrammeDateTime</th>\n",
       "      <th>duration_ms</th>\n",
       "      <th>adj_start_ms</th>\n",
       "      <th>adj_end_ms</th>\n",
       "      <th>Path</th>\n",
       "      <th>Index</th>\n",
       "      <th>Transcript</th>\n",
       "    </tr>\n",
       "  </thead>\n",
       "  <tbody>\n",
       "    <tr>\n",
       "      <th>0</th>\n",
       "      <td>E94B5735-A16D-41A9-A05A-09EE40E240A3</td>\n",
       "      <td>2019-01-01 05:00:00.000</td>\n",
       "      <td>331000</td>\n",
       "      <td>310000</td>\n",
       "      <td>641000</td>\n",
       "      <td>/AI/data/samenvattingen/2019/01/01/E94B5735-A1...</td>\n",
       "      <td>(36, 96)</td>\n",
       "      <td>[Het gehad., Nou ja goed we gaan eens even kij...</td>\n",
       "    </tr>\n",
       "    <tr>\n",
       "      <th>1</th>\n",
       "      <td>168D1E30-8F21-4C9D-A5DD-149D77E233B1</td>\n",
       "      <td>2019-01-01 06:00:00.000</td>\n",
       "      <td>17000</td>\n",
       "      <td>137000</td>\n",
       "      <td>154000</td>\n",
       "      <td>/AI/data/samenvattingen/2019/01/01/168D1E30-8F...</td>\n",
       "      <td>(19, 23)</td>\n",
       "      <td>[Meerdere verdachten zijn aangehouden., Vanaf ...</td>\n",
       "    </tr>\n",
       "    <tr>\n",
       "      <th>2</th>\n",
       "      <td>FCDD8B88-9BC5-4F84-BA71-610BFA889314</td>\n",
       "      <td>2019-01-01 06:00:00.000</td>\n",
       "      <td>17000</td>\n",
       "      <td>163000</td>\n",
       "      <td>180000</td>\n",
       "      <td>/AI/data/samenvattingen/2019/01/01/FCDD8B88-9B...</td>\n",
       "      <td>(25, 28)</td>\n",
       "      <td>[Vanaf vandaag is het lage btw tarief verhoogd...</td>\n",
       "    </tr>\n",
       "    <tr>\n",
       "      <th>3</th>\n",
       "      <td>9F461187-A082-42DF-B09B-7566B290657F</td>\n",
       "      <td>2019-01-01 06:00:00.000</td>\n",
       "      <td>486000</td>\n",
       "      <td>310000</td>\n",
       "      <td>796000</td>\n",
       "      <td>/AI/data/samenvattingen/2019/01/01/9F461187-A0...</td>\n",
       "      <td>(37, 116)</td>\n",
       "      <td>[André Meinema van de economieredactie die hee...</td>\n",
       "    </tr>\n",
       "    <tr>\n",
       "      <th>4</th>\n",
       "      <td>3376B065-A0BD-4E3D-AC05-14B278077F90</td>\n",
       "      <td>2019-01-01 07:00:00.000</td>\n",
       "      <td>333000</td>\n",
       "      <td>310000</td>\n",
       "      <td>643000</td>\n",
       "      <td>/AI/data/samenvattingen/2019/01/01/3376B065-A0...</td>\n",
       "      <td>(65, 120)</td>\n",
       "      <td>[Zeventien vuurwerk en oud en nieuw onlosmakel...</td>\n",
       "    </tr>\n",
       "  </tbody>\n",
       "</table>\n",
       "</div>"
      ],
      "text/plain": [
       "                                     ID        ProgrammeDateTime  duration_ms  \\\n",
       "0  E94B5735-A16D-41A9-A05A-09EE40E240A3  2019-01-01 05:00:00.000       331000   \n",
       "1  168D1E30-8F21-4C9D-A5DD-149D77E233B1  2019-01-01 06:00:00.000        17000   \n",
       "2  FCDD8B88-9BC5-4F84-BA71-610BFA889314  2019-01-01 06:00:00.000        17000   \n",
       "3  9F461187-A082-42DF-B09B-7566B290657F  2019-01-01 06:00:00.000       486000   \n",
       "4  3376B065-A0BD-4E3D-AC05-14B278077F90  2019-01-01 07:00:00.000       333000   \n",
       "\n",
       "   adj_start_ms  adj_end_ms  \\\n",
       "0        310000      641000   \n",
       "1        137000      154000   \n",
       "2        163000      180000   \n",
       "3        310000      796000   \n",
       "4        310000      643000   \n",
       "\n",
       "                                                Path      Index  \\\n",
       "0  /AI/data/samenvattingen/2019/01/01/E94B5735-A1...   (36, 96)   \n",
       "1  /AI/data/samenvattingen/2019/01/01/168D1E30-8F...   (19, 23)   \n",
       "2  /AI/data/samenvattingen/2019/01/01/FCDD8B88-9B...   (25, 28)   \n",
       "3  /AI/data/samenvattingen/2019/01/01/9F461187-A0...  (37, 116)   \n",
       "4  /AI/data/samenvattingen/2019/01/01/3376B065-A0...  (65, 120)   \n",
       "\n",
       "                                          Transcript  \n",
       "0  [Het gehad., Nou ja goed we gaan eens even kij...  \n",
       "1  [Meerdere verdachten zijn aangehouden., Vanaf ...  \n",
       "2  [Vanaf vandaag is het lage btw tarief verhoogd...  \n",
       "3  [André Meinema van de economieredactie die hee...  \n",
       "4  [Zeventien vuurwerk en oud en nieuw onlosmakel...  "
      ]
     },
     "execution_count": 30,
     "metadata": {},
     "output_type": "execute_result"
    }
   ],
   "source": [
    "dft['Index'] = dft.apply(lambda x: get_index_from_path(x.Path, x.adj_start_ms, x.adj_end_ms), axis=1)\n",
    "dft['Transcript'] = dft.apply(lambda x: get_senteces_from_index(x.Path, x.Index), axis=1)\n",
    "dft.head()"
   ]
  },
  {
   "cell_type": "code",
   "execution_count": 31,
   "metadata": {},
   "outputs": [
    {
     "data": {
      "text/plain": [
       "3693"
      ]
     },
     "execution_count": 31,
     "metadata": {},
     "output_type": "execute_result"
    }
   ],
   "source": [
    "# Final dataframe cleaned from (near) empty transcripts\n",
    "empty = dft[dft.Transcript.apply(lambda x: len(x) < 4)]\n",
    "dfc = dft.drop(empty.index, axis=0)\n",
    "len(dfc)\n",
    "\n",
    "# Check for empty transcripts\n",
    "# uncomment to save, already saved in csv!\n",
    "# dfc.to_csv(\"/AI/data/samenvattingen/csv/data_2019_04_clean.csv\", index=False)"
   ]
  },
  {
   "cell_type": "markdown",
   "metadata": {},
   "source": [
    "### Dataset Analysis"
   ]
  },
  {
   "cell_type": "code",
   "execution_count": 138,
   "metadata": {},
   "outputs": [
    {
     "data": {
      "text/plain": [
       "50.73625778499865"
      ]
     },
     "execution_count": 138,
     "metadata": {},
     "output_type": "execute_result"
    }
   ],
   "source": [
    "# Number of sentences per segment\n",
    "np.mean(dfc.Transcript.apply(lambda x: len(x)))"
   ]
  },
  {
   "cell_type": "code",
   "execution_count": 139,
   "metadata": {},
   "outputs": [
    {
     "data": {
      "text/plain": [
       "187369"
      ]
     },
     "execution_count": 139,
     "metadata": {},
     "output_type": "execute_result"
    }
   ],
   "source": [
    "sum(dfc.Transcript.apply(lambda x: len(x)))"
   ]
  },
  {
   "cell_type": "code",
   "execution_count": 141,
   "metadata": {},
   "outputs": [
    {
     "data": {
      "text/plain": [
       "(3693, 9)"
      ]
     },
     "execution_count": 141,
     "metadata": {},
     "output_type": "execute_result"
    }
   ],
   "source": [
    "dfc.shape"
   ]
  },
  {
   "cell_type": "code",
   "execution_count": null,
   "metadata": {},
   "outputs": [],
   "source": []
  }
 ],
 "metadata": {
  "interpreter": {
   "hash": "fd2d6a5ca2aae245c34acf53d25397f476239751b872a5388a2536ddb7bbd9e6"
  },
  "kernelspec": {
   "display_name": "Python 3.8.10 ('justo': virtualenv)",
   "language": "python",
   "name": "python3"
  },
  "language_info": {
   "codemirror_mode": {
    "name": "ipython",
    "version": 3
   },
   "file_extension": ".py",
   "mimetype": "text/x-python",
   "name": "python",
   "nbconvert_exporter": "python",
   "pygments_lexer": "ipython3",
   "version": "3.8.10"
  },
  "orig_nbformat": 4
 },
 "nbformat": 4,
 "nbformat_minor": 2
}
