{
 "cells": [
  {
   "cell_type": "code",
   "execution_count": 1,
   "metadata": {},
   "outputs": [
    {
     "name": "stderr",
     "output_type": "stream",
     "text": [
      "/AI/.virtualenvs/gio/lib/python3.8/site-packages/tqdm/auto.py:22: TqdmWarning: IProgress not found. Please update jupyter and ipywidgets. See https://ipywidgets.readthedocs.io/en/stable/user_install.html\n",
      "  from .autonotebook import tqdm as notebook_tqdm\n"
     ]
    }
   ],
   "source": [
    "from nltk.tokenize import sent_tokenize\n",
    "from utils import clean_text, get_truth, ENWIKI_LOC, NLWIKI_LOC, NLNEWS_LOC, NLAUVI_LOC\n",
    "import sys\n",
    "sys.path.append('../')\n",
    "from BertTiling import eval_topic_segmentation"
   ]
  },
  {
   "cell_type": "markdown",
   "metadata": {},
   "source": [
    "### BertTiling"
   ]
  },
  {
   "cell_type": "code",
   "execution_count": 2,
   "metadata": {},
   "outputs": [],
   "source": [
    "with open(ENWIKI_LOC + '/10021') as f:\n",
    "    text = f.read()\n",
    "cleaned_text = clean_text(text)\n",
    "ground_truth = get_truth(clean_text(text, mark_sections=True))"
   ]
  },
  {
   "cell_type": "code",
   "execution_count": 7,
   "metadata": {},
   "outputs": [
    {
     "ename": "AttributeError",
     "evalue": "'RobertaModel' object has no attribute 'encode'",
     "output_type": "error",
     "traceback": [
      "\u001b[0;31m---------------------------------------------------------------------------\u001b[0m",
      "\u001b[0;31mAttributeError\u001b[0m                            Traceback (most recent call last)",
      "\u001b[1;32m/AI/giorgie/text_segmentation/Notebooks/BertTiling.ipynb Cell 4'\u001b[0m in \u001b[0;36m<cell line: 1>\u001b[0;34m()\u001b[0m\n\u001b[0;32m----> <a href='vscode-notebook-cell://ssh-remote%2B10.10.10.53/AI/giorgie/text_segmentation/Notebooks/BertTiling.ipynb#ch0000003vscode-remote?line=0'>1</a>\u001b[0m eval_topic_segmentation(cleaned_text, ground_truth)\n",
      "File \u001b[0;32m/AI/giorgie/text_segmentation/Notebooks/../BertTiling/berttiling.py:121\u001b[0m, in \u001b[0;36meval_topic_segmentation\u001b[0;34m(input, labels, topic_segmentation_config)\u001b[0m\n\u001b[1;32m    <a href='file:///AI/giorgie/text_segmentation/Notebooks/../BertTiling/berttiling.py?line=117'>118</a>\u001b[0m \u001b[39mif\u001b[39;00m \u001b[39misinstance\u001b[39m(\u001b[39minput\u001b[39m, \u001b[39mstr\u001b[39m):\n\u001b[1;32m    <a href='file:///AI/giorgie/text_segmentation/Notebooks/../BertTiling/berttiling.py?line=118'>119</a>\u001b[0m     \u001b[39minput\u001b[39m \u001b[39m=\u001b[39m sent_tokenize(\u001b[39minput\u001b[39m)\n\u001b[0;32m--> <a href='file:///AI/giorgie/text_segmentation/Notebooks/../BertTiling/berttiling.py?line=120'>121</a>\u001b[0m predicted_segmentations \u001b[39m=\u001b[39m topic_segmentation_bert(\u001b[39minput\u001b[39;49m, topic_segmentation_config)\n\u001b[1;32m    <a href='file:///AI/giorgie/text_segmentation/Notebooks/../BertTiling/berttiling.py?line=122'>123</a>\u001b[0m \u001b[39mreturn\u001b[39;00m compute_metrics(predicted_segmentations, labels)\n",
      "File \u001b[0;32m/AI/giorgie/text_segmentation/Notebooks/../BertTiling/berttiling.py:88\u001b[0m, in \u001b[0;36mtopic_segmentation_bert\u001b[0;34m(sentences, topic_segmentation_configs)\u001b[0m\n\u001b[1;32m     <a href='file:///AI/giorgie/text_segmentation/Notebooks/../BertTiling/berttiling.py?line=84'>85</a>\u001b[0m batches_features \u001b[39m=\u001b[39m []\n\u001b[1;32m     <a href='file:///AI/giorgie/text_segmentation/Notebooks/../BertTiling/berttiling.py?line=85'>86</a>\u001b[0m \u001b[39mfor\u001b[39;00m batch_sentences \u001b[39min\u001b[39;00m split_list(sentences, PARALLEL_INFERENCE_INSTANCES):\n\u001b[1;32m     <a href='file:///AI/giorgie/text_segmentation/Notebooks/../BertTiling/berttiling.py?line=86'>87</a>\u001b[0m     \u001b[39m# Create sentence representations\u001b[39;00m\n\u001b[0;32m---> <a href='file:///AI/giorgie/text_segmentation/Notebooks/../BertTiling/berttiling.py?line=87'>88</a>\u001b[0m     batches_features\u001b[39m.\u001b[39mappend(get_features_from_sentence(batch_sentences))\n\u001b[1;32m     <a href='file:///AI/giorgie/text_segmentation/Notebooks/../BertTiling/berttiling.py?line=88'>89</a>\u001b[0m features \u001b[39m=\u001b[39m flatten_features(batches_features)\n\u001b[1;32m     <a href='file:///AI/giorgie/text_segmentation/Notebooks/../BertTiling/berttiling.py?line=90'>91</a>\u001b[0m block_score \u001b[39m=\u001b[39m block_comparison_score(\n\u001b[1;32m     <a href='file:///AI/giorgie/text_segmentation/Notebooks/../BertTiling/berttiling.py?line=91'>92</a>\u001b[0m     features, k\u001b[39m=\u001b[39mtextiling_hyperparameters\u001b[39m.\u001b[39mSENTENCE_COMPARISON_WINDOW\n\u001b[1;32m     <a href='file:///AI/giorgie/text_segmentation/Notebooks/../BertTiling/berttiling.py?line=92'>93</a>\u001b[0m )\n",
      "File \u001b[0;32m/AI/giorgie/text_segmentation/Notebooks/../BertTiling/core.py:106\u001b[0m, in \u001b[0;36mget_features_from_sentence\u001b[0;34m(batch_sentences, layer)\u001b[0m\n\u001b[1;32m    <a href='file:///AI/giorgie/text_segmentation/Notebooks/../BertTiling/core.py?line=103'>104</a>\u001b[0m batch_features \u001b[39m=\u001b[39m []\n\u001b[1;32m    <a href='file:///AI/giorgie/text_segmentation/Notebooks/../BertTiling/core.py?line=104'>105</a>\u001b[0m \u001b[39mfor\u001b[39;00m sentence \u001b[39min\u001b[39;00m batch_sentences:\n\u001b[0;32m--> <a href='file:///AI/giorgie/text_segmentation/Notebooks/../BertTiling/core.py?line=105'>106</a>\u001b[0m     tokens \u001b[39m=\u001b[39m roberta_model\u001b[39m.\u001b[39;49mencode(sentence)\n\u001b[1;32m    <a href='file:///AI/giorgie/text_segmentation/Notebooks/../BertTiling/core.py?line=106'>107</a>\u001b[0m     all_layers \u001b[39m=\u001b[39m roberta_model\u001b[39m.\u001b[39mextract_features(tokens, return_all_hiddens\u001b[39m=\u001b[39m\u001b[39mTrue\u001b[39;00m)\n\u001b[1;32m    <a href='file:///AI/giorgie/text_segmentation/Notebooks/../BertTiling/core.py?line=107'>108</a>\u001b[0m     pooling \u001b[39m=\u001b[39m torch\u001b[39m.\u001b[39mnn\u001b[39m.\u001b[39mAvgPool2d((\u001b[39mlen\u001b[39m(tokens), \u001b[39m1\u001b[39m))\n",
      "File \u001b[0;32m/AI/.virtualenvs/gio/lib/python3.8/site-packages/torch/nn/modules/module.py:1185\u001b[0m, in \u001b[0;36mModule.__getattr__\u001b[0;34m(self, name)\u001b[0m\n\u001b[1;32m   <a href='file:///AI/.virtualenvs/gio/lib/python3.8/site-packages/torch/nn/modules/module.py?line=1182'>1183</a>\u001b[0m     \u001b[39mif\u001b[39;00m name \u001b[39min\u001b[39;00m modules:\n\u001b[1;32m   <a href='file:///AI/.virtualenvs/gio/lib/python3.8/site-packages/torch/nn/modules/module.py?line=1183'>1184</a>\u001b[0m         \u001b[39mreturn\u001b[39;00m modules[name]\n\u001b[0;32m-> <a href='file:///AI/.virtualenvs/gio/lib/python3.8/site-packages/torch/nn/modules/module.py?line=1184'>1185</a>\u001b[0m \u001b[39mraise\u001b[39;00m \u001b[39mAttributeError\u001b[39;00m(\u001b[39m\"\u001b[39m\u001b[39m'\u001b[39m\u001b[39m{}\u001b[39;00m\u001b[39m'\u001b[39m\u001b[39m object has no attribute \u001b[39m\u001b[39m'\u001b[39m\u001b[39m{}\u001b[39;00m\u001b[39m'\u001b[39m\u001b[39m\"\u001b[39m\u001b[39m.\u001b[39mformat(\n\u001b[1;32m   <a href='file:///AI/.virtualenvs/gio/lib/python3.8/site-packages/torch/nn/modules/module.py?line=1185'>1186</a>\u001b[0m     \u001b[39mtype\u001b[39m(\u001b[39mself\u001b[39m)\u001b[39m.\u001b[39m\u001b[39m__name__\u001b[39m, name))\n",
      "\u001b[0;31mAttributeError\u001b[0m: 'RobertaModel' object has no attribute 'encode'"
     ]
    }
   ],
   "source": [
    "eval_topic_segmentation(cleaned_text, ground_truth)"
   ]
  },
  {
   "cell_type": "code",
   "execution_count": null,
   "metadata": {},
   "outputs": [],
   "source": []
  }
 ],
 "metadata": {
  "interpreter": {
   "hash": "f978b396a6de9f6071591ed551517b33307dc604add4bc2313196a31dd808f97"
  },
  "kernelspec": {
   "display_name": "Python 3.8.10 ('gio': venv)",
   "language": "python",
   "name": "python3"
  },
  "language_info": {
   "codemirror_mode": {
    "name": "ipython",
    "version": 3
   },
   "file_extension": ".py",
   "mimetype": "text/x-python",
   "name": "python",
   "nbconvert_exporter": "python",
   "pygments_lexer": "ipython3",
   "version": "3.8.10"
  },
  "orig_nbformat": 4
 },
 "nbformat": 4,
 "nbformat_minor": 2
}
