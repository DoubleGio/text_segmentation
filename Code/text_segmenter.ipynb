{
 "cells": [
  {
   "cell_type": "code",
   "execution_count": 41,
   "metadata": {},
   "outputs": [],
   "source": [
    "from textseg import TextSeg\n",
    "from utils import NLNEWS_LOC, NLWIKI_LOC, get_all_file_names\n",
    "import numpy as np\n",
    "import os\n",
    "rng = np.random.default_rng()"
   ]
  },
  {
   "cell_type": "code",
   "execution_count": 42,
   "metadata": {},
   "outputs": [],
   "source": [
    "paths = get_all_file_names(NLNEWS_LOC+'x')\n",
    "sample = rng.choice(paths, size=4, replace=False)\n",
    "model_path = \"../../checkpoints/textseg/NLWiki_15-06_16-24/best_model\""
   ]
  },
  {
   "cell_type": "code",
   "execution_count": 27,
   "metadata": {},
   "outputs": [
    {
     "name": "stdout",
     "output_type": "stream",
     "text": [
      "\u001b[38;20m2022-06-16 11:48:18,108 - INFO - Using device: NVIDIA GeForce RTX 3090.\u001b[0m\n",
      "\u001b[38;20m2022-06-16 11:48:18,419 - INFO - Loaded model from ../../checkpoints/textseg/NLWiki_15-06_16-24/best_model.\u001b[0m\n"
     ]
    },
    {
     "name": "stderr",
     "output_type": "stream",
     "text": [
      "Segmenting: 100%|██████████| 2/2 [00:00<00:00, 26.42it/s]\n"
     ]
    }
   ],
   "source": [
    "ts = TextSeg(word2vec_path='../Datasets/word2vec-nl-combined-160.txt', load_from=model_path)\n"
   ]
  },
  {
   "cell_type": "code",
   "execution_count": 58,
   "metadata": {},
   "outputs": [
    {
     "name": "stdout",
     "output_type": "stream",
     "text": [
      "\u001b[38;20m2022-06-16 12:37:47,609 - INFO - Loaded model from ../../checkpoints/textseg/NLWiki_15-06_16-24/best_model.\u001b[0m\n"
     ]
    },
    {
     "name": "stderr",
     "output_type": "stream",
     "text": [
      "Segmenting: 100%|██████████| 4/4 [00:00<00:00, 44.06it/s]\n"
     ]
    }
   ],
   "source": [
    "res = ts.segment_text(sample, threshold=0.25, from_wiki=True)"
   ]
  },
  {
   "cell_type": "code",
   "execution_count": 59,
   "metadata": {},
   "outputs": [
    {
     "name": "stdout",
     "output_type": "stream",
     "text": [
      "======\n",
      "\" Hij is kruidig , en toch is het een elegante wijn .Ik hou van opera en ik heb een opleiding gehad tot klassieke ballerina .En er zit een soort chocoladeachtige ondertoon in , waar ik erg van hou .Ik ben zelf ook tien procent van de tijd zoet . ''Pornoster SAVANA SAMSON over haar eigen wijn .\n",
      "======\n",
      "( Gazet van Antwerpen 24 maart )\n",
      "De CD&V , die in Veurne in de meerderheid zit , roept alle partijen en belangengroepen op om mee het probleem van de sluiting van suikerfabriek aan te pakken .CD&V wil onderzoeken of in de suikerfabriek bio-ethanol geproduceerd kan worden .Met de sluiting van de fabriek verliezen niet alleen de 77 personeelsleden hun job , maar ook heel wat transporteurs , loonwerkers en landbouwers uit de regio .er overal meer en meer stem-men op om alternatieven brandstoffen te halen uit de natuur en de landbouwproducten .Bio-ethanol is in feite vergiste suiker die eenvoudig gewonnen kan worden uit suikerbieten .Het is een alternatief voor benzine .\n",
      "======\n",
      "In het buitenland rijden al heel wat bussen op bio-ethanol en een Europese richtlijn beveelt tegen 2010 , 5,75 biobrandstof aan bij ons .Daarom wil CD&V bio-ethanol produceren in de sui - kerfabriek .In dat geval zou zelfs een deel van de bestaande installaties op de terreinen van de suikerfabriek kunnen worden gebruikt .Met dit , maar nog andere voorstellen wil de CD&V proberen om Iscal Sugar de fabriek opnieuw te laten opstarten en meteen weer werkzekerheid geven aan de vele mensen die door de sluiting van de fabriek zijn getroffen .Wij willen samen met Iscal Sugar ook op zoek gaan naar mogelijke investeerders aldus CD&V-voorzitter Joël Claeys .\n"
     ]
    }
   ],
   "source": [
    "print(res[3])"
   ]
  },
  {
   "cell_type": "code",
   "execution_count": 51,
   "metadata": {},
   "outputs": [
    {
     "name": "stdout",
     "output_type": "stream",
     "text": [
      "===WR-P-P-G-0000226317===\n",
      "\" Hij is kruidig , en toch is het een elegante wijn . Ik hou van opera en ik heb een opleiding gehad tot klassieke ballerina . En er zit een soort chocoladeachtige ondertoon in , waar ik erg van hou . Ik ben zelf ook tien procent van de tijd zoet . '' Pornoster SAVANA SAMSON over haar eigen wijn . ( Gazet van Antwerpen 24 maart )\n",
      "===WR-P-P-G-0000273133===\n",
      "De CD&V , die in Veurne in de meerderheid zit , roept alle partijen en belangengroepen op om mee het probleem van de sluiting van suikerfabriek aan te pakken . CD&V wil onderzoeken of in de suikerfabriek bio-ethanol geproduceerd kan worden . Met de sluiting van de fabriek verliezen niet alleen de 77 personeelsleden hun job , maar ook heel wat transporteurs , loonwerkers en landbouwers uit de regio . er overal meer en meer stem-men op om alternatieven brandstoffen te halen uit de natuur en de landbouwproducten . Bio-ethanol is in feite vergiste suiker die eenvoudig gewonnen kan worden uit suikerbieten . Het is een alternatief voor benzine . In het buitenland rijden al heel wat bussen op bio-ethanol en een Europese richtlijn beveelt tegen 2010 , 5,75 biobrandstof aan bij ons . Daarom wil CD&V bio-ethanol produceren in de sui - kerfabriek . In dat geval zou zelfs een deel van de bestaande installaties op de terreinen van de suikerfabriek kunnen worden gebruikt . Met dit , maar nog andere voorstellen wil de CD&V proberen om Iscal Sugar de fabriek opnieuw te laten opstarten en meteen weer werkzekerheid geven aan de vele mensen die door de sluiting van de fabriek zijn getroffen . Wij willen samen met Iscal Sugar ook op zoek gaan naar mogelijke investeerders aldus CD&V-voorzitter Joël Claeys .\n",
      "\n"
     ]
    }
   ],
   "source": [
    "with open(sample[3], 'r') as f:\n",
    "    text = f.read()\n",
    "print(text)"
   ]
  },
  {
   "cell_type": "code",
   "execution_count": null,
   "metadata": {},
   "outputs": [],
   "source": []
  }
 ],
 "metadata": {
  "kernelspec": {
   "display_name": "Python 3.8.10 ('gio': venv)",
   "language": "python",
   "name": "python3"
  },
  "language_info": {
   "codemirror_mode": {
    "name": "ipython",
    "version": 3
   },
   "file_extension": ".py",
   "mimetype": "text/x-python",
   "name": "python",
   "nbconvert_exporter": "python",
   "pygments_lexer": "ipython3",
   "version": "3.8.10"
  },
  "orig_nbformat": 4,
  "vscode": {
   "interpreter": {
    "hash": "f978b396a6de9f6071591ed551517b33307dc604add4bc2313196a31dd808f97"
   }
  }
 },
 "nbformat": 4,
 "nbformat_minor": 2
}
