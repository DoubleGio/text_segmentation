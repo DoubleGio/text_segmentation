{
 "cells": [
  {
   "cell_type": "code",
   "execution_count": 12,
   "metadata": {},
   "outputs": [],
   "source": [
    "import os, re\n",
    "import pandas as pd\n",
    "from nltk.tokenize import sent_tokenize\n",
    "from matplotlib import pyplot as plt"
   ]
  },
  {
   "cell_type": "markdown",
   "metadata": {},
   "source": [
    "### Datasets Analysis\n",
    "\n",
    "* sections per doc\n",
    "* sentences per doc\n",
    "* sentences per section\n",
    "* avg words per sentence per doc"
   ]
  },
  {
   "cell_type": "code",
   "execution_count": 34,
   "metadata": {},
   "outputs": [
    {
     "data": {
      "text/html": [
       "<div>\n",
       "<style scoped>\n",
       "    .dataframe tbody tr th:only-of-type {\n",
       "        vertical-align: middle;\n",
       "    }\n",
       "\n",
       "    .dataframe tbody tr th {\n",
       "        vertical-align: top;\n",
       "    }\n",
       "\n",
       "    .dataframe thead th {\n",
       "        text-align: right;\n",
       "    }\n",
       "</style>\n",
       "<table border=\"1\" class=\"dataframe\">\n",
       "  <thead>\n",
       "    <tr style=\"text-align: right;\">\n",
       "      <th></th>\n",
       "      <th>ENWiki_dir</th>\n",
       "      <th>NLAuVi_dir</th>\n",
       "      <th>NLNews_dir</th>\n",
       "      <th>NLWiki_dir</th>\n",
       "    </tr>\n",
       "  </thead>\n",
       "  <tbody>\n",
       "    <tr>\n",
       "      <th>Sections/Doc</th>\n",
       "      <td>[]</td>\n",
       "      <td>[]</td>\n",
       "      <td>[]</td>\n",
       "      <td>[]</td>\n",
       "    </tr>\n",
       "    <tr>\n",
       "      <th>Sentences/Doc</th>\n",
       "      <td>[]</td>\n",
       "      <td>[]</td>\n",
       "      <td>[]</td>\n",
       "      <td>[]</td>\n",
       "    </tr>\n",
       "    <tr>\n",
       "      <th>Sentences/Section</th>\n",
       "      <td>[]</td>\n",
       "      <td>[]</td>\n",
       "      <td>[]</td>\n",
       "      <td>[]</td>\n",
       "    </tr>\n",
       "    <tr>\n",
       "      <th>Mean Words per Sentence/Docs</th>\n",
       "      <td>[]</td>\n",
       "      <td>[]</td>\n",
       "      <td>[]</td>\n",
       "      <td>[]</td>\n",
       "    </tr>\n",
       "  </tbody>\n",
       "</table>\n",
       "</div>"
      ],
      "text/plain": [
       "                             ENWiki_dir NLAuVi_dir NLNews_dir NLWiki_dir\n",
       "Sections/Doc                         []         []         []         []\n",
       "Sentences/Doc                        []         []         []         []\n",
       "Sentences/Section                    []         []         []         []\n",
       "Mean Words per Sentence/Docs         []         []         []         []"
      ]
     },
     "execution_count": 34,
     "metadata": {},
     "output_type": "execute_result"
    }
   ],
   "source": [
    "bases = {\n",
    "    'ENWiki_dir': '../ENWiki/data', \n",
    "    'NLAuVi_dir': '../NLAuVi/data_2604-1516', \n",
    "    'NLNews_dir': '../NLNews/data_2404-1301', \n",
    "    'NLWiki_dir': '../NLWiki/data'\n",
    "    }\n",
    "info = ['Sections/Doc', 'Sentences/Doc', 'Sentences/Section', 'Mean Words per Sentence/Docs']\n",
    "table = pd.DataFrame([[[] for _ in range(len(bases.keys()))] for _ in range(len(info))],\n",
    "    index=info, columns=bases.keys())   \n",
    "\n",
    "def clean_text(text):\n",
    "    \"\"\"\n",
    "    Removes wikimarkup; replace headers by a '===' mark at the beginning of each section.\n",
    "    \"\"\"\n",
    "    t = re.sub(r'^(?:(<doc)|(<\\/doc)).*\\n+', '', text, flags=re.MULTILINE)\n",
    "    return re.sub(r'^=+.*\\n+', '===', t, flags=re.MULTILINE)\n",
    "\n",
    "table"
   ]
  },
  {
   "cell_type": "code",
   "execution_count": null,
   "metadata": {},
   "outputs": [],
   "source": [
    "for dir in bases.values():\n",
    "    for root, _, files in os.walk(dir):\n",
    "        for file in files:\n",
    "            with open(os.path.join(root, file), 'r', encoding='utf-8') as f:\n",
    "                try:\n",
    "                    doc = f.read()\n",
    "                except UnicodeDecodeError:\n",
    "                    continue\n",
    "            doc_clean = clean_text(doc)\n",
    "            sections = doc_clean.split('===')[1:]\n",
    "            \n",
    "            doc_sents = sent_tokenize(doc_clean)\n"
   ]
  },
  {
   "cell_type": "code",
   "execution_count": 20,
   "metadata": {},
   "outputs": [],
   "source": [
    "with open(bases['ENWiki_dir']+'/21391', 'r', encoding='utf-8') as f:\n",
    "    d = f.read()\n",
    "d = clean_text(d)\n",
    "sections = d.split('===')[1:]"
   ]
  },
  {
   "cell_type": "code",
   "execution_count": null,
   "metadata": {},
   "outputs": [],
   "source": []
  }
 ],
 "metadata": {
  "interpreter": {
   "hash": "f978b396a6de9f6071591ed551517b33307dc604add4bc2313196a31dd808f97"
  },
  "kernelspec": {
   "display_name": "Python 3.8.10 ('gio': venv)",
   "language": "python",
   "name": "python3"
  },
  "language_info": {
   "codemirror_mode": {
    "name": "ipython",
    "version": 3
   },
   "file_extension": ".py",
   "mimetype": "text/x-python",
   "name": "python",
   "nbconvert_exporter": "python",
   "pygments_lexer": "ipython3",
   "version": "3.8.10"
  },
  "orig_nbformat": 4
 },
 "nbformat": 4,
 "nbformat_minor": 2
}
