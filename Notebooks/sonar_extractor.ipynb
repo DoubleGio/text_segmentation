{
 "cells": [
  {
   "cell_type": "code",
   "execution_count": 60,
   "metadata": {},
   "outputs": [],
   "source": [
    "import os, tarfile, re\n",
    "from typing import Union, List\n",
    "import folia.main as folia\n",
    "from folia import fql\n",
    "import spacy\n",
    "nlp = spacy.load(\"nl_core_news_sm\")"
   ]
  },
  {
   "cell_type": "markdown",
   "metadata": {},
   "source": [
    "### Extract from .tgz file"
   ]
  },
  {
   "cell_type": "code",
   "execution_count": 4,
   "metadata": {},
   "outputs": [],
   "source": [
    "file = tarfile.open(\"20150602_SoNaRCorpus_NC_1.2.1.tgz\")"
   ]
  },
  {
   "cell_type": "code",
   "execution_count": 18,
   "metadata": {},
   "outputs": [],
   "source": [
    "select = [tarinfo for tarinfo in file if (tarinfo.name.startswith('./SoNaRCorpus_NC_1.2/SONAR500/FoLiA/WR-P-P-G_newspapers/00') and not tarinfo.name.startswith('./SoNaRCorpus_NC_1.2/SONAR500/FoLiA/WR-P-P-G_newspapers/000'))]"
   ]
  },
  {
   "cell_type": "code",
   "execution_count": null,
   "metadata": {},
   "outputs": [],
   "source": [
    "file.extractall(path='output',members=select)"
   ]
  },
  {
   "cell_type": "markdown",
   "metadata": {},
   "source": [
    "### Read .folia file  \n",
    "https://foliapy.readthedocs.io/en/latest/folia.html#  \n",
    "Get text: `txt = doc.text()`  \n",
    "Print text: `print(doc)`"
   ]
  },
  {
   "cell_type": "code",
   "execution_count": 7,
   "metadata": {},
   "outputs": [],
   "source": [
    "# base = './output/SoNaRCorpus_NC_1.2/SONAR500/FoLiA/WR-P-P-G_newspapers/'\n",
    "base = '../NLNews/WR-P-P-G_newspapers/'"
   ]
  },
  {
   "cell_type": "code",
   "execution_count": 39,
   "metadata": {},
   "outputs": [],
   "source": [
    "def create_segment(doc: Union[folia.Document, str]) -> str:\n",
    "    \"\"\"\n",
    "    Returns the text as a single segment, filtering out paragraphs containing 10 or less words.\n",
    "    \"\"\"\n",
    "    if isinstance(doc, str):\n",
    "        doc = folia.Document(file=doc)\n",
    "    paragraphs = [p.text() for p in doc.select(folia.Paragraph) if p.count(folia.Word) > 10]\n",
    "\n",
    "    # Sometimes articles start with: \"LOCATION -\"; the following removes it.\n",
    "    # Look for '-' in first sentence of the first paragraph.\n",
    "    query = fql.Query(f'SELECT w WHERE text = \"-\" IN ID {doc.paragraphs(0)[0].id}')\n",
    "    found = query(doc)\n",
    "    if found:\n",
    "        pp = doc.paragraphs(0).copy()\n",
    "        word = found[0]\n",
    "        # Walk backwards, only if the word directly before the '-' is a capitalized location.\n",
    "        while True:\n",
    "            prev = word.previous(folia.Word)\n",
    "            if prev is None:\n",
    "                pp[0].remove(word)\n",
    "                break\n",
    "            if prev.annotation(folia.PosAnnotation, set=\"http://ilk.uvt.nl/folia/sets/frog-mbpos-cgn\").cls == 'SPEC(deeleigen)' and prev.text().isupper():\n",
    "                pp[0].remove(word)\n",
    "                word = prev\n",
    "                prev = word.previous()\n",
    "            else:\n",
    "                break\n",
    "        paragraphs[0] = pp.text()\n",
    "    res = ' '.join(paragraphs)\n",
    "    return res, {'id': doc.id, 'len': len(list(nlp(res).sents))}"
   ]
  },
  {
   "cell_type": "code",
   "execution_count": null,
   "metadata": {},
   "outputs": [],
   "source": [
    "# Check if any file contains multiple headers (probably none)\n",
    "# TAKES A LONG TIME\n",
    "for root, dirs, files in os.walk(base+'000/', topdown=False):\n",
    "   for file in files:\n",
    "      if file.endswith('.xml'):\n",
    "          d = folia.Document(file=os.path.join(root,file))\n",
    "          hc = d.count(folia.Head)\n",
    "          if hc > 1:\n",
    "              print(f'{os.path.join(root,file)} - {hc}')"
   ]
  },
  {
   "cell_type": "code",
   "execution_count": 13,
   "metadata": {},
   "outputs": [
    {
     "data": {
      "text/plain": [
       "[5]"
      ]
     },
     "execution_count": 13,
     "metadata": {},
     "output_type": "execute_result"
    }
   ],
   "source": [
    "doc = folia.Document(file=base+'000/WR-P-P-G-0000000004.folia.xml')\n",
    "xx, _ = create_segment(doc)\n",
    "[x.count(folia.Sentence) for x in doc.select(folia.Paragraph)]"
   ]
  },
  {
   "cell_type": "code",
   "execution_count": 17,
   "metadata": {},
   "outputs": [
    {
     "data": {
      "text/plain": [
       "4"
      ]
     },
     "execution_count": 17,
     "metadata": {},
     "output_type": "execute_result"
    }
   ],
   "source": [
    "len(list(nlp(xx).sents))"
   ]
  },
  {
   "cell_type": "markdown",
   "metadata": {},
   "source": [
    "### Create multi-segment documents"
   ]
  },
  {
   "cell_type": "code",
   "execution_count": 4,
   "metadata": {},
   "outputs": [],
   "source": [
    "import numpy as np\n",
    "from datetime import datetime\n",
    "from tqdm import tqdm\n",
    "rng = np.random.default_rng()"
   ]
  },
  {
   "cell_type": "code",
   "execution_count": 108,
   "metadata": {},
   "outputs": [],
   "source": [
    "# List containing the location of all files\n",
    "locs = [os.path.join(root,file) for root, _, files in os.walk(base) for file in files if file.endswith('.xml')]"
   ]
  },
  {
   "cell_type": "code",
   "execution_count": 54,
   "metadata": {},
   "outputs": [],
   "source": [
    "# def create_doc(locs: Union[List[str],np.ndarray[str]]): # This type of hint only works in Python3.9 for whatever reason\n",
    "def create_doc(locs, save=True):\n",
    "    \"\"\"\n",
    "    Creates a folder containing .txt files from concatenated articles.\n",
    "    :param locs: List/np.ndarray containing locations to the .xml files to be processed.\n",
    "    :param save: Whether to save to a folder or to print out results.\n",
    "    \"\"\"\n",
    "    if isinstance(locs, List):\n",
    "        locs = np.array(locs)\n",
    "\n",
    "    dt = datetime.now().strftime(\"%d%m-%H%M\")\n",
    "    i = 0\n",
    "    pad = int(np.log10(len(locs))) + 1\n",
    "\n",
    "    doc_lengths = []\n",
    "    sect_lengths = []\n",
    "\n",
    "    if save:\n",
    "        new_dir = f'../NLNews/data_{dt}'\n",
    "        os.mkdir(new_dir)\n",
    "    else:\n",
    "        docs = []\n",
    "\n",
    "    with tqdm(total=locs.size, desc='Articles processed') as pbar:\n",
    "        while locs.size > 0:\n",
    "            if locs.size >= 6:\n",
    "                n = rng.integers(2,5)\n",
    "            elif locs.size == 5:\n",
    "                n = rng.integers(2,4)\n",
    "            else:\n",
    "                n = locs.size\n",
    "            slice = rng.choice(locs.size, size=n, replace=False)\n",
    "\n",
    "            texts = [create_segment(t) for t in locs[slice]]\n",
    "            locs = np.delete(locs, slice)\n",
    "            doc = ''\n",
    "            l = []\n",
    "            for text, stats in texts:\n",
    "                doc += f'==={stats[\"id\"]}===\\n{text}\\n'\n",
    "                l.append(stats[\"len\"])\n",
    "                sect_lengths.append(stats[\"len\"])\n",
    "            doc_lengths.append(sum(l))\n",
    "\n",
    "            # doc = '==='+'\\n==='.join(f'{stats[\"id\"]}===\\n{text}' for text, stats in texts)\n",
    "            if save:\n",
    "                with open(f'{new_dir}/{i:0{pad}}.txt', 'w') as tfile:\n",
    "                    tfile.write(doc)\n",
    "            else:\n",
    "                docs.append(doc)\n",
    "            i += 1\n",
    "            pbar.update(n)\n",
    "\n",
    "    print(f'Created {i} Documents')\n",
    "    print(f'   Average document length = {np.mean(doc_lengths)} sentences')\n",
    "    print(f'   Average section length  = {np.mean(sect_lengths)} sentences')\n",
    "\n",
    "    if save is False: \n",
    "        return docs"
   ]
  },
  {
   "cell_type": "code",
   "execution_count": 97,
   "metadata": {},
   "outputs": [
    {
     "name": "stderr",
     "output_type": "stream",
     "text": [
      "Articles processed: 100%|██████████| 4096/4096 [27:36<00:00,  2.47it/s]"
     ]
    },
    {
     "name": "stdout",
     "output_type": "stream",
     "text": [
      "Created 1357 Documents\n",
      "   Average document length = 40.171702284450994\n",
      "   Average section length  = 13.308837890625\n"
     ]
    },
    {
     "name": "stderr",
     "output_type": "stream",
     "text": [
      "\n"
     ]
    }
   ],
   "source": [
    "create_doc([os.path.join(root,file) for root, _, files in os.walk(base+'000/') for file in files if file.endswith('.xml')])"
   ]
  },
  {
   "cell_type": "code",
   "execution_count": 90,
   "metadata": {},
   "outputs": [
    {
     "name": "stderr",
     "output_type": "stream",
     "text": [
      "Articles processed: 100%|██████████| 2/2 [00:00<00:00,  3.09it/s]"
     ]
    },
    {
     "name": "stdout",
     "output_type": "stream",
     "text": [
      "Created 1 Documents\n",
      "   Average document length = 25.0\n",
      "   Average section length  = 12.5\n"
     ]
    },
    {
     "name": "stderr",
     "output_type": "stream",
     "text": [
      "\n"
     ]
    }
   ],
   "source": [
    "dd = create_doc(locs=[\"../NLNews/WR-P-P-G_newspapers/000/WR-P-P-G-0000000003.folia.xml\",\"../NLNews/WR-P-P-G_newspapers/000/WR-P-P-G-0000000004.folia.xml\"],save=False)"
   ]
  },
  {
   "cell_type": "code",
   "execution_count": 68,
   "metadata": {},
   "outputs": [],
   "source": [
    "def remove_info(text):\n",
    "    \"\"\"\n",
    "    Removes lines starting with \"===\" from string.\n",
    "    \"\"\"\n",
    "    return re.sub(r'^===.*\\n', '', dd[0], flags=re.MULTILINE)"
   ]
  },
  {
   "cell_type": "markdown",
   "metadata": {},
   "source": [
    "### Segmentation demo"
   ]
  },
  {
   "cell_type": "code",
   "execution_count": 73,
   "metadata": {},
   "outputs": [],
   "source": [
    "import nltk\n",
    "from nltk.tokenize import texttiling"
   ]
  },
  {
   "cell_type": "code",
   "execution_count": 85,
   "metadata": {},
   "outputs": [
    {
     "data": {
      "text/plain": [
       "'Oud-minister van justitie mr. C.H.F. Polak , die voorzitter is van de Nederlandse Juristen Vereniging heeft een beroep gedaan op de politieke partijen ervoor te zorgen dat bij de komende verkiezingen de Tweede Kamer wordt versterkt met een aantal bekwame juristen . Hij vindt de teruggang van het aantal juristen in het parlement , juist nu de wetgever zich opmaakt tot grote veranderingen in het recht , zorgwekkend . \" Misschien lijkt velen van u mijn beduchtheid voor het gehalte van onze rechtstaat wat overdreven . Maar de wetten worden onoverzichtelijk en tegenstrijdig . De vergunningenstelsels stapelen zich op , de wetshandhaving wordt grilliger en zwakker , overheidssteun aan noodlijdende bedrijven wordt verleend volgens vage , niet vastgelegde criteria . Enig beroep is niet mogelijk en zelfs het parlement mag niet weten welke bedrijven steun ontvangen \" aldus mr. Polak , lid van de Eerste Kamer .\\n\\nDe zon verzuimt ook dit jaar niet . Hij schijnt op de akkers van Midden-Anatolië . Het graan komt tot leven . De boeren doden de tijd in koffiehuizen met backgammon . Over een maand gaan ze naar de velden om het graan te oogsten . Ze zullen die aan de Turkse overheid verkopen en dan snel hun backgammon hervatten . Een routineus boerenleven . Een manier van rondkomen , die verstoord dreigt te worden . De economische crisis zet alles op losse schroeven , ook het inkomen van de boer . Bijna de helft van de Turkse bevolking bestaat uit boeren . Maar liefst tien miljoen mensen zijn werkzaam in de landbouw . Frankrijk met een even grote bevolking als Turkije , doet het met 600 000 boeren , terwijl de grootste exporteur van landbouwproducten , de Verenigde Staten , niet meer boeren telt dan 3,5 miljoen . De boerenbevolking is voor Turkije een enorme last . Ze moeten allemaal rondkomen van producten die alleen voor de binnenlandse markt zijn bestemd en meestal niet goed genoeg zijn voor de export . Nedim Acar , een zestigjarige , sterk gerimpelde akkerbouwer heeft geen boodschap aan de statistieken . We gaan met hem naar zijn graanveld . Onderweg vertelt hij hoe moeilijk hij kan rondkomen . \" Mijn schulden bij de landbouwbank worden steeds hoger . De overheid betaalt ieder jaar minder voor het graan . Om de drie , vier jaar hebben we hier een overstroming of een grote droogte . Dan zijn we kapot . \" \" Ik had jaren geleden mijn dorp moeten verlaten en naar Duitsland moeten gaan . Hier blijven was de grootste fout in mijn leven . Mijn kinderen heb ik niet naar hogere scholen kunnen sturen . Ze delen nu het lot van hun vader . En dat alles door dit rotte boerenleven \" , vertelt Nedim Acar . We bereiken zijn akker . Hij plukt een handvol graan , bekijkt het met een zuur gezicht en legt uit waarom de oogst dit jaar slecht zal zijn . \" De hele winter heeft het bijna niet geregend . De regen viel pas in mei . Dat water was alleen goed voor het laten verrotten van het graan . \" De Turkse boer is volledig afhankelijk van de prijzen die de overheid betaalt voor de landbouwproducten . De slechte omstandigheden waarin de boeren verkeren , zijn niet te wijten aan die prijzen . De armoede op het Turkse platteland wordt veroorzaakt door het grote aantal boeren en de technologische achterstand . De overheid is tot nu toe vrij gul geweest . De boeren kregen prijzen , die boven het niveau van de wereldmarkt lagen . De Turkse staat heeft de graanboeren bijvoorbeeld altijd meer betaald dan de prijzen in de Verenigde Staten . Terwijl het Amerikaanse graan veel beter is dan het Turkse . Vanwaar die gulle hand van een Turkse overheid die in de schulden zwemt ? Econoom Mehmet Altah : \" De boeren zijn machtig in Turkije . Elke regering die aan de macht wil blijven moet de boeren zoet houden . Vanwege hun grote aantal beslissen de boeren wie de verkiezingen gaan winnen . Dat is ook de reden dat politici tijdens verkiezingstoespraken zeggen : ik zal jullie de beste prijzen geven , wat er ook gebeurt . Maar Turkije kan dit niet meer dragen . Waarom zou ik voor slecht graan meer betalen dan voor Amerikaans graan dat beter is ? \" Mehmet Altah is niet de enige die kritiek heeft op het Turkse landbouwbeleid . Ook Kemal Dervis , de man die vicepresident van de Wereldbank was en door de Turkse regering halsoverkop uit de VS werd gehaald om de economie uit de crisis te halen , zag het probleem . Een van de pijlers van zijn crisisbeleid is het afschaffen van de hoge prijzen voor de landbouwproducten . Maar het Turkse landbouwbeleid is niet van de ene op de andere dag te veranderen . Dat ervoer ook Remal Detvis . De regeringspartij MHP ( de Grijze Wolven ) steunt op het platteland . De MHP weigerde akkoord te gaan met lagere prijzen voor de landbouwproducten . Er werd een tussenweg gevonden , maar de prijzen liggen nog steeds boven het niveau van de wereldmarkt . Ibrahim Yetkin , voorzitter van de Turkse boerenbond , is razend op Dervis , op iedereen die de prijzen ter discussie stelt : \" Hoe willen ze de economie redden ? Door de productie stop te zetten soms ? De toestand van de boeren is belabberd , daar moeten ze rekening mee houden . Okee , ik weet dat er teveel mensen op het platteland leven , maar wat is het alternatief ? Is er genoeg werkgelegenheid in de steden , zodat de boeren daar aan de slag kunnen ? Nee ! \" Een kleine onderneming in de stad . In het centrum van Ankara verkoopt Ozgur Kurmus computers . Ook hij volgt de economische ontwikkelingen op de voet . Zijn omzet is sinds het begin van de crisis erg verslechterd . Zijn mening over de boeren : \" Ze moeten eerst aan mij vragen of ik de boeren wil financieren met de belasting die ik betaal . Waarom moeten mensen die echt productief zijn verlieslijdende sectoren helpen ? \" \" Het is de hoogste tijd dat Turkije overgaat op echt kapitalisme \" , zegt Ozgur Kurmus . \" De overheid moet niet meer de mogelijkheid hebben om te strooien met belastinggeld . De boeren moeten kunnen concurreren met de rest van de wereld en anders moeten ze stoppen . Vroeger was de import van lampen verboden . De Turkse lampen gingen vaak niet meer dan twee dagen mee . Na het opheffen van het importverbod zijn de Turkse lampen ineens prima geworden . Hetzelfde moet ook met landbouwproducten gebeuren . Als ze concurrentie krijgen , gaan ze zich ook beteren . Kurmus wil weliswaar de boeren niet meer financieren , maar de overheid krijgt te maken met een migratiegolf richting grote steden als de boeren marktprijzen krijgen voor hun producten . De overvolle steden kunnen een dergelijke stroom aan migranten niet aan . Ibrahim Yetkin , voorzitter van de boerenbond , stelt voor om de industrie naar het platteland te brengen . Yetkin : \" Er moet in technologie geïnvesteerd worden . Fabrieken moeten naar het platteland gaan , zodat de boeren die niet kunnen rondkomen bij die fabrieken terecht kunnen . Het is niet verstandig om de boeren te duperen . Wat hebben we aan zes , zeven miljoen werklozen erbij ? \" Econoom Mehmet Altan vreest dat alles bij het oude zal blijven : \" Over een jaar zijn er weer verkiezingen . De Turkse politici kennende zullen ze weer van alles beloven om stemmen te krijgen . En over twee , drie jaar hebben we een nog grotere crisis dan nu . \" Na het bezoek aan het graanveld gaat Nedim Acar terug naar het enige koffiehuis in het dorp . De boeren stoppen even met hun spel en laten weten wat de overheid als eerste zou moeten doen : kwijtschelding van de schulden die ze hebben bij de landbouwbank . Maar ook zij weten dat dat dit jaar niet zal gebeuren . De Turkse regering komt met zo\\'n cadeautje altijd pas vlak voor de verkiezingen .\\n\\n'"
      ]
     },
     "execution_count": 85,
     "metadata": {},
     "output_type": "execute_result"
    }
   ],
   "source": [
    "re.sub('\\n','\\n\\n',remove_info(dd[0]))"
   ]
  },
  {
   "cell_type": "code",
   "execution_count": 94,
   "metadata": {},
   "outputs": [
    {
     "data": {
      "text/plain": [
       "[0, 0, 0, 0, 1, 0, 0, 0, 1, 0, 0, 0, 1, 0, 0, 0, 1, 0, 0, 0, 1, 0, 0, 0, 0]"
      ]
     },
     "execution_count": 94,
     "metadata": {},
     "output_type": "execute_result"
    }
   ],
   "source": [
    "tt = texttiling.TextTilingTokenizer(w=10,k=5,demo_mode=True, stopwords=nltk.corpus.stopwords.words('dutch'))\n",
    "s, ss, d, b= tt.tokenize(re.sub('\\n','\\n\\n',remove_info(dd[0])))\n",
    "b"
   ]
  },
  {
   "cell_type": "code",
   "execution_count": 93,
   "metadata": {},
   "outputs": [
    {
     "name": "stdout",
     "output_type": "stream",
     "text": [
      "===WR-P-P-G-0000000003===\n",
      "Na een slappe morgen kwam gisteren de effectenbeurs van Amsterdam pas in de late middag tot leven . Onder invloed van vooral Wall Street trokken de aandelenkoersen duidelijk aan . De belangrijkste graadmeter , de AEX-index , sloot 10,55 punten hoger op 573,50 . Dat kwam neer op een stijging van 1,87 procent . Op de laatste handelsdag van het kwartaal waren hoofdzakelijk de pensioenfondsen en verzekeraars actief . Zij wilden graag hun beleggingsfondsen nog even oppoetsen . De slotkoersen van de tweede driemaandsperiode gelden immers als peildatum . Dat leidde ertoe dat slechts twee van de hoofdfondsen met een koersverlies eindigden : Gucci en Hagemeyer . De brede opleving werd gedragen door de technologiefondsen . Winnaar onder de hoofdfondsen was KPNQwest dat 12,5 procent koerswinst noteerde . \" Dit vind ik een van de meest ondergewaardeerde fondsen . Daar lopen de zaken voorspoedig \" , meende een handelaar . Andere technologiefondsen die goede koerswinsten pakten waren UPC , Philips en KPN . Het kabelbedrijf steeg 10,7 procent op 3 euro , het elektronicaconcern werd 4 procent duurder op 31,31 euro . KPN klom 3,9 procent tot 6,70 euro . Bij de Midkap-fondsen veerde CMG 6,9 procent op tot 5,40 euro . Sneller nog dan deze automatiseerder steeg Draka . De prijs schoot 17,1 procent omhoog nadat de kabelfabrikant een verdubbeling van de winstverwachting had aangekondigd . Daarentegen moest Amsterdam Option Traders 7,2 procent achteruit . AOT had verklaard dat in het tweede kwartaal het resultaat fors lager zal zijn .\n",
      "===WR-P-P-G-0000000004===\n",
      "Zeilster Carolijn Brouwer is sterk gestart bij het WK Europe in Vilamoura . In lichte omstandigheden won de tweevoudige wereldkampioene de eerste race . In de tweede race eindigde de olympische kandidate als tweede . Min de Zille uit België zette , omgekeerd , dezelfde prestaties neer .\n",
      "\n"
     ]
    }
   ],
   "source": [
    "print(dd[0])"
   ]
  },
  {
   "cell_type": "code",
   "execution_count": 96,
   "metadata": {},
   "outputs": [
    {
     "data": {
      "text/plain": [
       "2"
      ]
     },
     "execution_count": 96,
     "metadata": {},
     "output_type": "execute_result"
    }
   ],
   "source": [
    "ttt = texttiling.TextTilingTokenizer(w=10,k=5,demo_mode=False, stopwords=nltk.corpus.stopwords.words('dutch'))\n",
    "len(ttt.tokenize(re.sub('\\n','\\n\\n',remove_info(dd[0]))))"
   ]
  },
  {
   "cell_type": "code",
   "execution_count": null,
   "metadata": {},
   "outputs": [],
   "source": []
  }
 ],
 "metadata": {
  "interpreter": {
   "hash": "fe1c16cf6bceb8ce9bc3f50dc8ff8b04f978e165089070d01e34fd3d81982202"
  },
  "kernelspec": {
   "display_name": "Python 3.10.1 64-bit",
   "language": "python",
   "name": "python3"
  },
  "language_info": {
   "codemirror_mode": {
    "name": "ipython",
    "version": 3
   },
   "file_extension": ".py",
   "mimetype": "text/x-python",
   "name": "python",
   "nbconvert_exporter": "python",
   "pygments_lexer": "ipython3",
   "version": "3.8.10"
  },
  "orig_nbformat": 4
 },
 "nbformat": 4,
 "nbformat_minor": 2
}
