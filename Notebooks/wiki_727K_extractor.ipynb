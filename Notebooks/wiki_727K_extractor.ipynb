{
 "cells": [
  {
   "cell_type": "code",
   "execution_count": 1,
   "metadata": {},
   "outputs": [],
   "source": [
    "import os, tarfile"
   ]
  },
  {
   "cell_type": "code",
   "execution_count": 2,
   "metadata": {},
   "outputs": [],
   "source": [
    "archive_file = '../ENWiki/wiki_727K.tar.bz2'\n",
    "output_dir = '../ENWiki'"
   ]
  },
  {
   "cell_type": "code",
   "execution_count": 3,
   "metadata": {},
   "outputs": [],
   "source": [
    "file = tarfile.open(archive_file, 'r:bz2')"
   ]
  },
  {
   "cell_type": "code",
   "execution_count": null,
   "metadata": {},
   "outputs": [],
   "source": [
    "# do stuff\n",
    "# Extract this or use wikisection hmmmmmm"
   ]
  }
 ],
 "metadata": {
  "interpreter": {
   "hash": "7b87c1d3ab45aa43570b770b85056e3932dbddf43e01c1d13aa1a9a9935e3e26"
  },
  "kernelspec": {
   "display_name": "Python 3.8.10 ('gio': virtualenv)",
   "language": "python",
   "name": "python3"
  },
  "language_info": {
   "codemirror_mode": {
    "name": "ipython",
    "version": 3
   },
   "file_extension": ".py",
   "mimetype": "text/x-python",
   "name": "python",
   "nbconvert_exporter": "python",
   "pygments_lexer": "ipython3",
   "version": "3.8.10"
  },
  "orig_nbformat": 4
 },
 "nbformat": 4,
 "nbformat_minor": 2
}
