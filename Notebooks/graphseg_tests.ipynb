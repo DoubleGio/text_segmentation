{
 "cells": [
  {
   "cell_type": "code",
   "execution_count": 18,
   "metadata": {},
   "outputs": [],
   "source": [
    "import os, subprocess, shutil, re\n",
    "import pandas as pd"
   ]
  },
  {
   "cell_type": "code",
   "execution_count": 5,
   "metadata": {},
   "outputs": [],
   "source": [
    "input_dir = '../GraphSeg/data/input'\n",
    "output_dir = '../GraphSeg/data/output'\n",
    "seg_en = '../GraphSeg/binary/graphseg_en.jar'\n",
    "seg_nl = '../GraphSeg/binary/graphseg_nl.jar'"
   ]
  },
  {
   "cell_type": "markdown",
   "metadata": {},
   "source": [
    "#### ENWiki tests"
   ]
  },
  {
   "cell_type": "code",
   "execution_count": 14,
   "metadata": {},
   "outputs": [],
   "source": [
    "# Copy files to input_orig directory\n",
    "for root, _, files in os.walk('../ENWiki/data'):\n",
    "    for file in files[:5]:\n",
    "        if not os.path.exists(os.path.join(input_dir + '_orig', file)):\n",
    "            shutil.copy(os.path.join(root, file), input_dir + '_orig')\n",
    "    break"
   ]
  },
  {
   "cell_type": "code",
   "execution_count": null,
   "metadata": {},
   "outputs": [],
   "source": [
    "# Clean up docs, place them in input directory\n",
    "for root, _, files in os.walk(input_dir + '_orig'):\n",
    "    for file in files:\n",
    "        with open(os.path.join(root, file), 'r') as f:\n",
    "            doc = f.read()\n",
    "        with open(os.path.join(input_dir, file), 'w') as f2:\n",
    "            f2.write(re.sub(r'^=+.*\\n+', '', doc, flags=re.MULTILINE))"
   ]
  },
  {
   "cell_type": "code",
   "execution_count": null,
   "metadata": {},
   "outputs": [],
   "source": [
    "# Call the jar (and 🙏)\n",
    "with subprocess.Popen(['java', '-jar', seg_en, input_dir, output_dir, '0.25', '2'], stdout=subprocess.PIPE, universal_newlines=True) as popen:\n",
    "    for line in popen.stdout:\n",
    "        print(line)\n",
    "if popen.returncode != 0:\n",
    "    raise subprocess.CalledProcessError(popen.returncode, popen.args)"
   ]
  },
  {
   "cell_type": "markdown",
   "metadata": {},
   "source": [
    "#### NLWiki tests\n",
    "Dutch alternatives:\n",
    "* https://github.com/dcferreira/multilingual-joint-embeddings for word embeddings (it is based on what's used by the English version)\n",
    "* http://crr.ugent.be/programs-data/subtitle-frequencies/subtlex-nl/downloading for word frequencies\n",
    "* `nltk.corpus.stopwords.words('dutch')` for stopwords"
   ]
  },
  {
   "cell_type": "markdown",
   "metadata": {},
   "source": [
    "##### Creating replacements for the English resources"
   ]
  },
  {
   "cell_type": "code",
   "execution_count": null,
   "metadata": {},
   "outputs": [],
   "source": [
    "# Extract correct word embeddings\n"
   ]
  },
  {
   "cell_type": "code",
   "execution_count": 30,
   "metadata": {},
   "outputs": [],
   "source": [
    "# Transform word frequency csv into correct .txt format\n",
    "df = pd.read_csv('../GraphSeg/backups/SUBTLEX-NL.cd-above2.txt', sep='\\t', header=0)\n",
    "out_str = df.iloc[:, :2].to_string(header=False, index=False, justify='left')\n",
    "with open('../GraphSeg/source/res/freqs.txt', 'w') as out:\n",
    "    out.write(re.sub(r'[ \\t]+', ' ', out_str))"
   ]
  },
  {
   "cell_type": "code",
   "execution_count": 45,
   "metadata": {},
   "outputs": [],
   "source": [
    "# Get stopwords from nltk and put them into a .txt file\n",
    "from nltk.corpus import stopwords\n",
    "nl_sw = stopwords.words('dutch')\n",
    "with open('../GraphSeg/source/res/stopwords.txt', 'w') as out:\n",
    "    out.write('\\n'.join(nl_sw))"
   ]
  },
  {
   "cell_type": "markdown",
   "metadata": {},
   "source": [
    "##### Testing"
   ]
  },
  {
   "cell_type": "code",
   "execution_count": null,
   "metadata": {},
   "outputs": [],
   "source": [
    "for root, _, files in os.walk('../NLWiki/data'):\n",
    "    for file in files[:5]:\n",
    "        if not os.path.exists(os.path.join(input_dir + '_orig', file)):\n",
    "            shutil.copy(os.path.join(root, file), input_dir + '_orig')\n",
    "    break"
   ]
  }
 ],
 "metadata": {
  "interpreter": {
   "hash": "f978b396a6de9f6071591ed551517b33307dc604add4bc2313196a31dd808f97"
  },
  "kernelspec": {
   "display_name": "Python 3.8.10 ('gio': venv)",
   "language": "python",
   "name": "python3"
  },
  "language_info": {
   "codemirror_mode": {
    "name": "ipython",
    "version": 3
   },
   "file_extension": ".py",
   "mimetype": "text/x-python",
   "name": "python",
   "nbconvert_exporter": "python",
   "pygments_lexer": "ipython3",
   "version": "3.8.10"
  },
  "orig_nbformat": 4
 },
 "nbformat": 4,
 "nbformat_minor": 2
}
