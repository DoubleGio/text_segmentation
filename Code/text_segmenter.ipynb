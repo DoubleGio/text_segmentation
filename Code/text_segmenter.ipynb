{
 "cells": [
  {
   "cell_type": "code",
   "execution_count": 1,
   "metadata": {},
   "outputs": [],
   "source": [
    "from textseg import TextSeg\n",
    "from utils import NLNEWS_LOC, NLWIKI_LOC, get_all_file_names\n",
    "import numpy as np\n",
    "import os\n",
    "rng = np.random.default_rng()"
   ]
  },
  {
   "cell_type": "code",
   "execution_count": 2,
   "metadata": {},
   "outputs": [],
   "source": [
    "paths = get_all_file_names(NLNEWS_LOC)\n",
    "sample = rng.choice(paths, size=4, replace=False)\n",
    "model_path = \"../../checkpoints/textseg/NLNews_Jun20_1453/best_model\""
   ]
  },
  {
   "cell_type": "code",
   "execution_count": 3,
   "metadata": {},
   "outputs": [
    {
     "name": "stdout",
     "output_type": "stream",
     "text": [
      "\u001b[38;20m2022-06-20 21:51:44,892 - INFO - Using device: NVIDIA GeForce RTX 3090.\u001b[0m\n"
     ]
    }
   ],
   "source": [
    "ts = TextSeg(word2vec_path='../Datasets/word2vec-nl-combined-160.txt', load_from=model_path)"
   ]
  },
  {
   "cell_type": "code",
   "execution_count": 4,
   "metadata": {},
   "outputs": [
    {
     "name": "stdout",
     "output_type": "stream",
     "text": [
      "\u001b[38;20m2022-06-20 21:51:51,149 - INFO - Loaded model from ../../checkpoints/textseg/NLNews_Jun20_1453/best_model.\u001b[0m\n",
      "\u001b[38;20m2022-06-20 21:51:51,149 - INFO - Using threshold 0.6.\u001b[0m\n",
      "\u001b[38;20m2022-06-20 21:51:51,150 - INFO - Loaded 4 texts.\u001b[0m\n"
     ]
    },
    {
     "name": "stderr",
     "output_type": "stream",
     "text": [
      "Segmenting: 912it [00:00, 5026.85it/s]           \n"
     ]
    }
   ],
   "source": [
    "res = ts.segment_text(sample, from_wiki=False)"
   ]
  },
  {
   "cell_type": "code",
   "execution_count": 11,
   "metadata": {},
   "outputs": [
    {
     "name": "stdout",
     "output_type": "stream",
     "text": [
      "======\n",
      "KV Mechelen laat weer van zich horen op de transfermarkt .Kevin Kempeneer , een 19-jarige doelman die overkomt van Anderlecht , tekende een contract voor één seizoen .Hij wordt de doublure van Olivier Werner , die eerder al overkwam van Excelsior Virton .Zij vervangen Vincent Van Trier en Tom Verelst .Van Trier vond al onderdak bij Willebroek-Meerhof , Verelst mocht eerder al vernemen dat hij naar een andere club mocht uitkijken .Yannick Dierick , die afgelopen seizoen als derde doelman fungeerde , zal een nieuw contract aangeboden krijgen .Malinwa legde ook René De Cooman vast .De Cooman , afgelopen seizoen aan de slag bij KVK Tienen , is een 20-jarige Belgische aanvaller die eveneens een contract voor één seizoen ondertekende .De Cooman is na Kielo-Lezi , Vleminckx en Charaï al de vierde nieuwe aanvaller voor de club , al wordt hij door de sportieve staf vooral als een wissel op de toekomst gezien .Flankspeler Dennis Masina blijft bij KV Mechelen .Voor hij naar Swaziland op vakantie vertrok , tekende Masina een contract voor het komende seizoen .Zijn huidige club , Supersport United , vroeg transfergeld , maar na controle bleek het contract geen geldig document te zijn .Van de Belgische voetbalbond kreeg KVM te horen dat niets een verlenging van het verblijf van Masina in de weg staat .KV Mechelen moet dan ook geen transfersom betalen .Wellicht wordt het contract ook nog eens opengebroken naar de komende twee seizoenen .\n",
      "======\n",
      "* Maandag start de inschrijving op de aandelen De Rouck Geomatics .Het wegenkaartenbedrijf trekt tegen 9 euro naar de beurs .* Vakbonden en directie bij ING België hebben een akkoord ondertekend over de uitbesteding van de print- , mail- en scanactiviteiten aan het Britse bedrijf Astron .De socialistische vakbond tekende niet .In totaal verhuizen 95 mensen dit najaar naar Astron .De CAO voorziet onder meer in een tewerkstellingsgarantie met een terugkeerrecht naar ING voor een periode van * Beurswaakhond CBFA gaat nauwer samenwerken met de Nationale Bank van België en diens tegenhanger in Nederland , de Nederlandsche Bank , inzake het toezicht op de financiële sector en bij eventuele financiële crises .* Het Belgische biotechnologiebedrijf Eurofins Scientific heeft zijn Amerikaanse sectorgenoot Focus Bio-Inova ( FBI ) overgenomen .De overnameprijs is niet bekendgemaakt .Eurofins telt momenteel meer dan 3.300 werknemers .* Het personeel van lampenfabrikant Sylvania uit Tienen heeft ingestemd met het sociaal akkoord dat directie en vakbonden donderdag sloten .Bij Sylvania verdwijnen 104 van de 552 jobs .\n",
      "======\n",
      "Gouden Uil : Ultramarijn , Henk Van Woerden Gouden Uil Jonge lezer : Schijnbewegingen , Floortje Zwigtman Libris Literatuurprijs : Waar was je nou , Kees Schippers AKO Literaturprijs : Knielen op een bed violen , Jan Siebelink P.C.Hooftprijs ( oeuvre ) : Frédéric Louis Bastet Goncourt : Trois jours chez ma mère , François Weyergans Man Booker Prize : The sea , John Banville Whitbread Book of the Year : Matisse the Master , Hillary Spurling Orange Prize for Fiction : We need to talk about Kevin , Lionel Shriver Pulitzer Prize for Literature : Gilead , Marilynne Robinson\n",
      "Het Nederlandse midden- en kleinbedrijf ( MKB ) moet meer hoger opgeleiden in dienst nemen .Dat verhoogt het innovatief vermogen van de sector , die de economische motor van het land is .Dat schrijft de Adviesraad voor het Wetenschaps- en Technologiebeleid ( AWT ) in een gisteren verschenen advies aan de ministeries van Onderwijs ( OCW ) en Economische Zaken .Het advies heeft betrekking op de afspraak die Europese regeringsleiders drie jaar geleden hebben gemaakt : in 2010 moet Europa de meest dynamische en innovatieve kenniseconomie ter wereld zijn .Daarvoor is onder meer afgesproken om de uitgaven aan onderzoek en ontwikkeling ( rd ) op 3 procent van het bruto nationaal product te brengen .Om aan de afspraken te voldoen zouden met name bedrijven meer moeten investeren in rd .Het advies van de AWT haakt ook in op de ` Europese paradox ' : universiteiten en instituten genereren veel wetenschappelijke kennis , maar bedrijven doen er weinig mee in vergelijking met Amerikaanse en Japanse concurrenten .Volgens AWT-voorzitter J. Sistermans moet de overheid zich meer richten op de zogeheten ` ontwikkelingsgerichte ' bedrijven .Van de 570.000 kleine en middelgrote bedrijven in Nederland is slechts 7 procent echt innovatief .Daarna komt een grote groep , 30 procent van het totaal , dat technologieën op een slimme manier combineert , de ontwikkelingsgerichte bedrijven . \"Voor die groep zou meer aandacht moeten zijn '' , zegt AWT-voorzitter J. Sistermans .De overheid richt zich vooral op de kleine groep innovatieve bedrijven . \"Je laat een enorm potentieel liggen '' , zegt Sistermans .Ook MKB Nederland laat desgevraagd weten dat het overheidsbeleid zich te veel op die bovenste laag richt .Volgens het advies van de AWT zouden bedrijven meer tijd en geld moeten vrijmaken om werknemers bij te laten scholen , bedrijven zouden onderling meer moeten samenwerken en ze zouden meer contact moeten zoeken met hogescholen .Daarnaast zouden werknemers meer moeten kunnen ` pendelen ' tussen bedrijf en kennisinstelling , en het zou makkelijker moeten zijn om te kunnen promoveren buiten de universiteit , maar wel onder begeleiding van een hoogleraar .MKB Nederland laat desgevraagd weten tevreden te zijn over het AWT-advies . \"Het wil de vorming van netwerken stimuleren , en dat is wat er nu ontbreekt '' , aldus T. Ravensloot van MKB Nederland .\n",
      "======\n",
      "STEKENE Oud-burgemeester Herman Rollier ( CD&V ) heeft op de gemeenteraad dinsdagavond het college de levieten gelezen .Rollier maakt deel uit van de bestuursmeerderheid , maar gaf toch enkele bedenkingen mee rond de begroting .Het is duidelijk dat het geld op is , reageert hij .We kunnen geen leningen meer dragen behalve voor het onderhoud van de wegen Dat de belastingdruk voor de inwoners verhoogt , is volgens Rollier niet zomaar een ' faits divers ' maar een pijnlijke ingreep .Dit kan dus in géén geval herhaald worden .Het doet me dan ook plezier dat de burgemeester zei slechts één maal de belastingen te verhogen Toch stelt de oud-burgemeester zich vragen bij het gevoerde beleid .De ontvangsten zijn op één legislatuur behoorlijk gestegen .Er waren voor méér dan 3 miljoen euro extra ontvangsten en toch blijkt dit niet genoeg .Ik pleit er dan ook voor om veel voorzichtiger om te springen met uitgaven Rollier stelt voor om grootse projecten opnieuw te bekijken .Er moeten ook minder gebouwen aangekocht worden zoals het grote industriepand Pats Kipfilet waar een gebouw voor veiligheidsdiensten komt .De op de begroting voorziene aankoop van gronden achter de Kerkwijk ( voor de aanleg van een nieuw voetbalstadion ) lijkt hem evenmin op zijn plaats .Ook vindt Rollier dat ontwerpers onvoldoende budgettaire beperkingen worden opgelegd .Hij verwijst onder meer naar de geplande heraanleg van het gemeentepark , de meerwerken aan het gemeentehuis , het nieuwe containerpark en de heraanleg van Bosdorp .Tot slot moet de gemeente volgens hem de toelage voor OCMW en politie veel nauwkeuriger opvolgen en is een personeelsstop nodig .\n",
      "======\n",
      "We hebben tot nu altijd geluk gehad met de lage rentevoet van de leningen , maar dit kan en zàl veranderen .We hebben dus alle redenen om spaarzaam om te springen met de centen .Soberheid in het beleid is de enige uitweg om de burger niet té zwaar te belasten .Een verwittigd man is er 2 waard\n",
      "======\n",
      "\n"
     ]
    }
   ],
   "source": [
    "print(res[0])"
   ]
  },
  {
   "cell_type": "code",
   "execution_count": 12,
   "metadata": {},
   "outputs": [
    {
     "name": "stdout",
     "output_type": "stream",
     "text": [
      "===WR-P-P-G-0000633825===\n",
      "KV Mechelen laat weer van zich horen op de transfermarkt . Kevin Kempeneer , een 19-jarige doelman die overkomt van Anderlecht , tekende een contract voor één seizoen . Hij wordt de doublure van Olivier Werner , die eerder al overkwam van Excelsior Virton . Zij vervangen Vincent Van Trier en Tom Verelst . Van Trier vond al onderdak bij Willebroek-Meerhof , Verelst mocht eerder al vernemen dat hij naar een andere club mocht uitkijken . Yannick Dierick , die afgelopen seizoen als derde doelman fungeerde , zal een nieuw contract aangeboden krijgen . Malinwa legde ook René De Cooman vast . De Cooman , afgelopen seizoen aan de slag bij KVK Tienen , is een 20-jarige Belgische aanvaller die eveneens een contract voor één seizoen ondertekende . De Cooman is na Kielo-Lezi , Vleminckx en Charaï al de vierde nieuwe aanvaller voor de club , al wordt hij door de sportieve staf vooral als een wissel op de toekomst gezien . Flankspeler Dennis Masina blijft bij KV Mechelen . Voor hij naar Swaziland op vakantie vertrok , tekende Masina een contract voor het komende seizoen . Zijn huidige club , Supersport United , vroeg transfergeld , maar na controle bleek het contract geen geldig document te zijn . Van de Belgische voetbalbond kreeg KVM te horen dat niets een verlenging van het verblijf van Masina in de weg staat . KV Mechelen moet dan ook geen transfersom betalen . Wellicht wordt het contract ook nog eens opengebroken naar de komende twee seizoenen . \n",
      "===WR-P-P-G-0000398080===\n",
      "* Maandag start de inschrijving op de aandelen De Rouck Geomatics . Het wegenkaartenbedrijf trekt tegen 9 euro naar de beurs . * Vakbonden en directie bij ING België hebben een akkoord ondertekend over de uitbesteding van de print- , mail- en scanactiviteiten aan het Britse bedrijf Astron . De socialistische vakbond tekende niet . In totaal verhuizen 95 mensen dit najaar naar Astron . De CAO voorziet onder meer in een tewerkstellingsgarantie met een terugkeerrecht naar ING voor een periode van * Beurswaakhond CBFA gaat nauwer samenwerken met de Nationale Bank van België en diens tegenhanger in Nederland , de Nederlandsche Bank , inzake het toezicht op de financiële sector en bij eventuele financiële crises . * Het Belgische biotechnologiebedrijf Eurofins Scientific heeft zijn Amerikaanse sectorgenoot Focus Bio-Inova ( FBI ) overgenomen . De overnameprijs is niet bekendgemaakt . Eurofins telt momenteel meer dan 3.300 werknemers . * Het personeel van lampenfabrikant Sylvania uit Tienen heeft ingestemd met het sociaal akkoord dat directie en vakbonden donderdag sloten . Bij Sylvania verdwijnen 104 van de 552 jobs .\n",
      "===WR-P-P-G-0000233134===\n",
      "Gouden Uil : Ultramarijn , Henk Van Woerden Gouden Uil Jonge lezer : Schijnbewegingen , Floortje Zwigtman Libris Literatuurprijs : Waar was je nou , Kees Schippers AKO Literaturprijs : Knielen op een bed violen , Jan Siebelink P.C. Hooftprijs ( oeuvre ) : Frédéric Louis Bastet Goncourt : Trois jours chez ma mère , François Weyergans Man Booker Prize : The sea , John Banville Whitbread Book of the Year : Matisse the Master , Hillary Spurling Orange Prize for Fiction : We need to talk about Kevin , Lionel Shriver Pulitzer Prize for Literature : Gilead , Marilynne Robinson\n",
      "===WR-P-P-G-0000076661===\n",
      "Het Nederlandse midden- en kleinbedrijf ( MKB ) moet meer hoger opgeleiden in dienst nemen . Dat verhoogt het innovatief vermogen van de sector , die de economische motor van het land is . Dat schrijft de Adviesraad voor het Wetenschaps- en Technologiebeleid ( AWT ) in een gisteren verschenen advies aan de ministeries van Onderwijs ( OCW ) en Economische Zaken . Het advies heeft betrekking op de afspraak die Europese regeringsleiders drie jaar geleden hebben gemaakt : in 2010 moet Europa de meest dynamische en innovatieve kenniseconomie ter wereld zijn . Daarvoor is onder meer afgesproken om de uitgaven aan onderzoek en ontwikkeling ( rd ) op 3 procent van het bruto nationaal product te brengen . Om aan de afspraken te voldoen zouden met name bedrijven meer moeten investeren in rd . Het advies van de AWT haakt ook in op de ` Europese paradox ' : universiteiten en instituten genereren veel wetenschappelijke kennis , maar bedrijven doen er weinig mee in vergelijking met Amerikaanse en Japanse concurrenten . Volgens AWT-voorzitter J. Sistermans moet de overheid zich meer richten op de zogeheten ` ontwikkelingsgerichte ' bedrijven . Van de 570.000 kleine en middelgrote bedrijven in Nederland is slechts 7 procent echt innovatief . Daarna komt een grote groep , 30 procent van het totaal , dat technologieën op een slimme manier combineert , de ontwikkelingsgerichte bedrijven . \" Voor die groep zou meer aandacht moeten zijn '' , zegt AWT-voorzitter J. Sistermans . De overheid richt zich vooral op de kleine groep innovatieve bedrijven . \" Je laat een enorm potentieel liggen '' , zegt Sistermans . Ook MKB Nederland laat desgevraagd weten dat het overheidsbeleid zich te veel op die bovenste laag richt . Volgens het advies van de AWT zouden bedrijven meer tijd en geld moeten vrijmaken om werknemers bij te laten scholen , bedrijven zouden onderling meer moeten samenwerken en ze zouden meer contact moeten zoeken met hogescholen . Daarnaast zouden werknemers meer moeten kunnen ` pendelen ' tussen bedrijf en kennisinstelling , en het zou makkelijker moeten zijn om te kunnen promoveren buiten de universiteit , maar wel onder begeleiding van een hoogleraar . MKB Nederland laat desgevraagd weten tevreden te zijn over het AWT-advies . \" Het wil de vorming van netwerken stimuleren , en dat is wat er nu ontbreekt '' , aldus T. Ravensloot van MKB Nederland .\n",
      "===WR-P-P-G-0000538830===\n",
      "STEKENE Oud-burgemeester Herman Rollier ( CD&V ) heeft op de gemeenteraad dinsdagavond het college de levieten gelezen . Rollier maakt deel uit van de bestuursmeerderheid , maar gaf toch enkele bedenkingen mee rond de begroting . Het is duidelijk dat het geld op is , reageert hij . We kunnen geen leningen meer dragen behalve voor het onderhoud van de wegen Dat de belastingdruk voor de inwoners verhoogt , is volgens Rollier niet zomaar een ' faits divers ' maar een pijnlijke ingreep . Dit kan dus in géén geval herhaald worden . Het doet me dan ook plezier dat de burgemeester zei slechts één maal de belastingen te verhogen Toch stelt de oud-burgemeester zich vragen bij het gevoerde beleid . De ontvangsten zijn op één legislatuur behoorlijk gestegen . Er waren voor méér dan 3 miljoen euro extra ontvangsten en toch blijkt dit niet genoeg . Ik pleit er dan ook voor om veel voorzichtiger om te springen met uitgaven Rollier stelt voor om grootse projecten opnieuw te bekijken . Er moeten ook minder gebouwen aangekocht worden zoals het grote industriepand Pats Kipfilet waar een gebouw voor veiligheidsdiensten komt . De op de begroting voorziene aankoop van gronden achter de Kerkwijk ( voor de aanleg van een nieuw voetbalstadion ) lijkt hem evenmin op zijn plaats . Ook vindt Rollier dat ontwerpers onvoldoende budgettaire beperkingen worden opgelegd . Hij verwijst onder meer naar de geplande heraanleg van het gemeentepark , de meerwerken aan het gemeentehuis , het nieuwe containerpark en de heraanleg van Bosdorp . Tot slot moet de gemeente volgens hem de toelage voor OCMW en politie veel nauwkeuriger opvolgen en is een personeelsstop nodig . We hebben tot nu altijd geluk gehad met de lage rentevoet van de leningen , maar dit kan en zàl veranderen . We hebben dus alle redenen om spaarzaam om te springen met de centen . Soberheid in het beleid is de enige uitweg om de burger niet té zwaar te belasten . Een verwittigd man is er 2 waard \n",
      "\n"
     ]
    }
   ],
   "source": [
    "with open(sample[0], 'r') as f:\n",
    "    text = f.read()\n",
    "print(text)"
   ]
  },
  {
   "cell_type": "code",
   "execution_count": null,
   "metadata": {},
   "outputs": [],
   "source": []
  }
 ],
 "metadata": {
  "kernelspec": {
   "display_name": "Python 3.8.10 ('gio': venv)",
   "language": "python",
   "name": "python3"
  },
  "language_info": {
   "codemirror_mode": {
    "name": "ipython",
    "version": 3
   },
   "file_extension": ".py",
   "mimetype": "text/x-python",
   "name": "python",
   "nbconvert_exporter": "python",
   "pygments_lexer": "ipython3",
   "version": "3.8.10"
  },
  "orig_nbformat": 4,
  "vscode": {
   "interpreter": {
    "hash": "f978b396a6de9f6071591ed551517b33307dc604add4bc2313196a31dd808f97"
   }
  }
 },
 "nbformat": 4,
 "nbformat_minor": 2
}
